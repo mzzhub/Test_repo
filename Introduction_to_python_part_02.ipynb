{
  "nbformat": 4,
  "nbformat_minor": 0,
  "metadata": {
    "colab": {
      "provenance": []
    },
    "kernelspec": {
      "name": "python3",
      "display_name": "Python 3"
    },
    "language_info": {
      "name": "python"
    }
  },
  "cells": [
    {
      "cell_type": "code",
      "execution_count": null,
      "metadata": {
        "id": "_wyDqMCUhHXR"
      },
      "outputs": [],
      "source": [
        "# Conditions"
      ]
    },
    {
      "cell_type": "code",
      "source": [
        "name = input(\"Enter your name: \")\n",
        "age = float(input(\"Enter your age: \"))\n",
        "\n",
        "if age >= 18:\n",
        "    print(name,\"is eligible to vote\")\n",
        "else:\n",
        "    print(name,\"is not eligible to vote\")"
      ],
      "metadata": {
        "colab": {
          "base_uri": "https://localhost:8080/"
        },
        "id": "3MARhwQkhMLo",
        "outputId": "820c5bae-ea68-491e-c345-0bda47687a92"
      },
      "execution_count": null,
      "outputs": [
        {
          "output_type": "stream",
          "name": "stdout",
          "text": [
            "Enter your name: babu\n",
            "Enter your age: 23\n",
            "babu is eligible to vote\n"
          ]
        }
      ]
    },
    {
      "cell_type": "code",
      "source": [
        "num = float(input(\"Enter a number : \"))\n",
        "if num>0:\n",
        "  print(num,\"is positive\")\n",
        "elif num<0:\n",
        "  print(num,\"is negative\")\n",
        "else:\n",
        "  print(num,\"is zero\")"
      ],
      "metadata": {
        "colab": {
          "base_uri": "https://localhost:8080/"
        },
        "id": "1b00fnl4hySF",
        "outputId": "ff21a17d-e4dc-4629-8b80-c420295660bc"
      },
      "execution_count": null,
      "outputs": [
        {
          "output_type": "stream",
          "name": "stdout",
          "text": [
            "Enter a number : 0\n",
            "0.0 is zero\n"
          ]
        }
      ]
    },
    {
      "cell_type": "code",
      "source": [
        "age = int(input(\"Enter the age: \"))\n",
        "if age<10:\n",
        "  print(\"Lower Primary\")\n",
        "elif age<13:\n",
        "  print(\"Upper Primary\")\n",
        "elif age<15:\n",
        "  print(\"High School\")\n",
        "elif age<17:\n",
        "  print(\"Higher Secondary\")\n",
        "else:\n",
        "  print(\"Invalid\")"
      ],
      "metadata": {
        "id": "yTyAXLwmiwOR",
        "colab": {
          "base_uri": "https://localhost:8080/"
        },
        "outputId": "7f6fd436-c502-471f-f07f-d21bec20dd31"
      },
      "execution_count": 1,
      "outputs": [
        {
          "output_type": "stream",
          "name": "stdout",
          "text": [
            "Enter the age: 16\n",
            "Higher Secondary\n"
          ]
        }
      ]
    },
    {
      "cell_type": "code",
      "source": [
        "age = int(input(\"Enter age:\"))\n",
        "health = int(input(\"Health, 1 for critical, 2 for normal: \"))\n",
        "if age>60 and health==\"2\":\n",
        "  print(\"You are elidgible for second dose\")\n",
        "elif age>60 and health==\"1\":\n",
        "  print(\"You are not eligible for second dose due to bad health conditin\")\n",
        "elif age>18 and health==2:\n",
        "  print(\"You are eligible for first dose\")\n",
        "elif age>18 and health==1:\n",
        "  print(\"You are not eligible for first dose\")\n",
        "else:\n",
        "  print(\"You are not eligible\")"
      ],
      "metadata": {
        "colab": {
          "base_uri": "https://localhost:8080/"
        },
        "id": "B19fWv4lnvTE",
        "outputId": "e6a71a67-0995-4dc6-8533-d2bed983c355"
      },
      "execution_count": 3,
      "outputs": [
        {
          "output_type": "stream",
          "name": "stdout",
          "text": [
            "Enter age:23\n",
            "Health, 1 for critical, 2 for normal: 2\n",
            "You are eligible for first dose\n"
          ]
        }
      ]
    },
    {
      "cell_type": "code",
      "source": [],
      "metadata": {
        "id": "-JDvat9-puMm"
      },
      "execution_count": null,
      "outputs": []
    }
  ]
}