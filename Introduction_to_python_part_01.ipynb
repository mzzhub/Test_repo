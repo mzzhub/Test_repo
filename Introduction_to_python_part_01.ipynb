{
  "nbformat": 4,
  "nbformat_minor": 0,
  "metadata": {
    "colab": {
      "provenance": []
    },
    "kernelspec": {
      "name": "python3",
      "display_name": "Python 3"
    },
    "language_info": {
      "name": "python"
    }
  },
  "cells": [
    {
      "cell_type": "markdown",
      "source": [
        "# Print"
      ],
      "metadata": {
        "id": "Cr1fGvzV84i2"
      }
    },
    {
      "cell_type": "code",
      "source": [
        "print(5)"
      ],
      "metadata": {
        "colab": {
          "base_uri": "https://localhost:8080/"
        },
        "id": "nG_JlBqRQteL",
        "outputId": "7c66b129-1fb8-47f0-862e-bb42436ef40c"
      },
      "execution_count": null,
      "outputs": [
        {
          "output_type": "stream",
          "name": "stdout",
          "text": [
            "5\n"
          ]
        }
      ]
    },
    {
      "cell_type": "code",
      "source": [
        "a=5"
      ],
      "metadata": {
        "id": "Cr4HlHG7QwIq"
      },
      "execution_count": null,
      "outputs": []
    },
    {
      "cell_type": "code",
      "source": [
        "print(a)"
      ],
      "metadata": {
        "colab": {
          "base_uri": "https://localhost:8080/"
        },
        "id": "FUfYTtmSQzve",
        "outputId": "fb21c171-c872-4b86-993f-cdd82e0f074b"
      },
      "execution_count": null,
      "outputs": [
        {
          "output_type": "stream",
          "name": "stdout",
          "text": [
            "5\n"
          ]
        }
      ]
    },
    {
      "cell_type": "code",
      "source": [
        "a=10"
      ],
      "metadata": {
        "id": "DmvRFMmoQ0_T"
      },
      "execution_count": null,
      "outputs": []
    },
    {
      "cell_type": "code",
      "source": [
        "print(a)"
      ],
      "metadata": {
        "colab": {
          "base_uri": "https://localhost:8080/"
        },
        "id": "qCdh3-T0Q3y-",
        "outputId": "8a55d209-a1ef-43f4-e995-1455daec04f0"
      },
      "execution_count": null,
      "outputs": [
        {
          "output_type": "stream",
          "name": "stdout",
          "text": [
            "10\n"
          ]
        }
      ]
    },
    {
      "cell_type": "code",
      "source": [
        "print(\"John\")"
      ],
      "metadata": {
        "colab": {
          "base_uri": "https://localhost:8080/"
        },
        "id": "uvkWUwT0Q5NJ",
        "outputId": "e93e9272-a036-48f9-cb28-dda12e115ebd"
      },
      "execution_count": null,
      "outputs": [
        {
          "output_type": "stream",
          "name": "stdout",
          "text": [
            "John\n"
          ]
        }
      ]
    },
    {
      "cell_type": "markdown",
      "source": [
        "#Comparison"
      ],
      "metadata": {
        "id": "H8IKxFvy9BKX"
      }
    },
    {
      "cell_type": "code",
      "source": [
        "if 5>2:\n",
        "  print(\"Five is greater than two\")"
      ],
      "metadata": {
        "colab": {
          "base_uri": "https://localhost:8080/"
        },
        "id": "7cKJKWgfRACQ",
        "outputId": "b6078e14-2ed7-4c99-cf2e-fcbf2e66692a"
      },
      "execution_count": null,
      "outputs": [
        {
          "output_type": "stream",
          "name": "stdout",
          "text": [
            "Five is greater than two\n"
          ]
        }
      ]
    },
    {
      "cell_type": "code",
      "source": [
        "if 5>2:\n",
        "  print(\"Five is greater than two\")\n",
        "  if 5>2:\n",
        "    print(\"Five is greater than two\")"
      ],
      "metadata": {
        "colab": {
          "base_uri": "https://localhost:8080/"
        },
        "id": "aBcAoqUaRLbn",
        "outputId": "3884e01d-43c7-42cf-be56-55b8ce3d5511"
      },
      "execution_count": null,
      "outputs": [
        {
          "output_type": "stream",
          "name": "stdout",
          "text": [
            "Five is greater than two\n",
            "Five is greater than two\n"
          ]
        }
      ]
    },
    {
      "cell_type": "markdown",
      "source": [
        "#Comments\n",
        "\n",
        "\n",
        "1.   Single line\n",
        "2.   Multi line\n",
        "\n"
      ],
      "metadata": {
        "id": "Rc20-tdW9GQ_"
      }
    },
    {
      "cell_type": "code",
      "source": [
        "#this is a comment\n",
        "print(\"Hello world\")"
      ],
      "metadata": {
        "colab": {
          "base_uri": "https://localhost:8080/"
        },
        "id": "4tVj58i-RUhJ",
        "outputId": "923d06bc-f2e0-4bc7-c551-225c205e8621"
      },
      "execution_count": null,
      "outputs": [
        {
          "output_type": "stream",
          "name": "stdout",
          "text": [
            "Hello world\n"
          ]
        }
      ]
    },
    {
      "cell_type": "code",
      "source": [
        "#Thsi is a comment\n",
        "#writtern in more than one line\n",
        "print(\"How are you\")"
      ],
      "metadata": {
        "colab": {
          "base_uri": "https://localhost:8080/"
        },
        "id": "kq6DiGYvRb-1",
        "outputId": "af786a29-583b-4106-d5cb-c7533f7719eb"
      },
      "execution_count": null,
      "outputs": [
        {
          "output_type": "stream",
          "name": "stdout",
          "text": [
            "How are you\n"
          ]
        }
      ]
    },
    {
      "cell_type": "code",
      "source": [
        "\"\"\"\n",
        "This is a comment\n",
        "writtern in more than one line\n",
        "\"\"\"\n",
        "print(\"How are you\")"
      ],
      "metadata": {
        "colab": {
          "base_uri": "https://localhost:8080/"
        },
        "id": "dSSZpZaJRruT",
        "outputId": "d8b98bc1-1b50-4a16-be9e-2ac164500734"
      },
      "execution_count": null,
      "outputs": [
        {
          "output_type": "stream",
          "name": "stdout",
          "text": [
            "How are you\n"
          ]
        }
      ]
    },
    {
      "cell_type": "markdown",
      "source": [
        "#Variables"
      ],
      "metadata": {
        "id": "sDOak_7J9SFo"
      }
    },
    {
      "cell_type": "code",
      "source": [
        "name=\"Jimmy\""
      ],
      "metadata": {
        "id": "MPtR1VsjRy5s"
      },
      "execution_count": null,
      "outputs": []
    },
    {
      "cell_type": "code",
      "source": [
        "print(name)"
      ],
      "metadata": {
        "colab": {
          "base_uri": "https://localhost:8080/"
        },
        "id": "pX3x56woR4Ci",
        "outputId": "cc995a47-4c53-41a4-8f97-8de6dea0c6d1"
      },
      "execution_count": null,
      "outputs": [
        {
          "output_type": "stream",
          "name": "stdout",
          "text": [
            "Jimmy\n"
          ]
        }
      ]
    },
    {
      "cell_type": "code",
      "source": [
        "age=21"
      ],
      "metadata": {
        "id": "4GXg8qaQR5Lc"
      },
      "execution_count": null,
      "outputs": []
    },
    {
      "cell_type": "code",
      "source": [
        "print(age)"
      ],
      "metadata": {
        "colab": {
          "base_uri": "https://localhost:8080/"
        },
        "id": "zptH5aKwR7N3",
        "outputId": "676329ef-8057-4a3d-db3f-cc8014af2943"
      },
      "execution_count": null,
      "outputs": [
        {
          "output_type": "stream",
          "name": "stdout",
          "text": [
            "21\n"
          ]
        }
      ]
    },
    {
      "cell_type": "code",
      "source": [
        "x=34\n",
        "y=\"Foden\""
      ],
      "metadata": {
        "id": "KCo61uJER8Y5"
      },
      "execution_count": null,
      "outputs": []
    },
    {
      "cell_type": "code",
      "source": [
        "print(x)\n",
        "print(y)"
      ],
      "metadata": {
        "colab": {
          "base_uri": "https://localhost:8080/"
        },
        "id": "CjfvgtkPR_f-",
        "outputId": "2f94b16c-20c6-4a51-e053-56345490ce9c"
      },
      "execution_count": null,
      "outputs": [
        {
          "output_type": "stream",
          "name": "stdout",
          "text": [
            "34\n",
            "Foden\n"
          ]
        }
      ]
    },
    {
      "cell_type": "markdown",
      "source": [
        "#Data Types"
      ],
      "metadata": {
        "id": "QcEAodF49YxK"
      }
    },
    {
      "cell_type": "code",
      "source": [
        "x=4 #x is of tye int\n",
        "x=\"Salty\" #x is of type str\n",
        "print(x)"
      ],
      "metadata": {
        "colab": {
          "base_uri": "https://localhost:8080/"
        },
        "id": "4ojAi6WOSE9K",
        "outputId": "e1dfebc2-104e-4526-bc4d-a1a7dbf9cf50"
      },
      "execution_count": null,
      "outputs": [
        {
          "output_type": "stream",
          "name": "stdout",
          "text": [
            "Salty\n"
          ]
        }
      ]
    },
    {
      "cell_type": "code",
      "source": [
        "x=str(3) #x will be '3'\n",
        "y=int(3) #x will be 3\n",
        "z=float(3) #x will be 3.0"
      ],
      "metadata": {
        "id": "lapJ_iUHSUUA"
      },
      "execution_count": null,
      "outputs": []
    },
    {
      "cell_type": "code",
      "source": [
        "print(x,y,z)"
      ],
      "metadata": {
        "colab": {
          "base_uri": "https://localhost:8080/"
        },
        "id": "VanJzpQzSbDO",
        "outputId": "718605fc-c99e-446d-923e-a66d4b6a9721"
      },
      "execution_count": null,
      "outputs": [
        {
          "output_type": "stream",
          "name": "stdout",
          "text": [
            "3 3 3.0\n"
          ]
        }
      ]
    },
    {
      "cell_type": "code",
      "source": [
        "x=5\n",
        "y=\"Kane\"\n",
        "print(type(x))\n",
        "print(type(y))"
      ],
      "metadata": {
        "colab": {
          "base_uri": "https://localhost:8080/"
        },
        "id": "c3HHd10uSrvt",
        "outputId": "87b6519b-6a07-4d06-fdd8-a53501148d15"
      },
      "execution_count": null,
      "outputs": [
        {
          "output_type": "stream",
          "name": "stdout",
          "text": [
            "<class 'int'>\n",
            "<class 'str'>\n"
          ]
        }
      ]
    },
    {
      "cell_type": "code",
      "source": [
        "type(y)"
      ],
      "metadata": {
        "colab": {
          "base_uri": "https://localhost:8080/"
        },
        "id": "lcj8XVQhTS96",
        "outputId": "c9518370-27d4-4f8f-b324-7ee8f9991604"
      },
      "execution_count": null,
      "outputs": [
        {
          "output_type": "execute_result",
          "data": {
            "text/plain": [
              "str"
            ]
          },
          "metadata": {},
          "execution_count": 29
        }
      ]
    },
    {
      "cell_type": "markdown",
      "source": [
        "#Python is Case Sensitive"
      ],
      "metadata": {
        "id": "TwWjRZbw9cfK"
      }
    },
    {
      "cell_type": "code",
      "source": [
        "a=23\n",
        "A='Honey'\n",
        "print(a)\n",
        "print(A)\n",
        "#A will not replace a"
      ],
      "metadata": {
        "colab": {
          "base_uri": "https://localhost:8080/"
        },
        "id": "TuH1VIblTYP2",
        "outputId": "f65fec88-0b19-406d-c821-a4dc73754eb5"
      },
      "execution_count": null,
      "outputs": [
        {
          "output_type": "stream",
          "name": "stdout",
          "text": [
            "23\n",
            "Honey\n"
          ]
        }
      ]
    },
    {
      "cell_type": "markdown",
      "source": [
        "#Dont assign values to keywords"
      ],
      "metadata": {
        "id": "sPXzZjF89qQB"
      }
    },
    {
      "cell_type": "code",
      "source": [
        "print=4"
      ],
      "metadata": {
        "id": "j4PyIz-nTi5x"
      },
      "execution_count": null,
      "outputs": []
    },
    {
      "cell_type": "code",
      "source": [
        "print"
      ],
      "metadata": {
        "colab": {
          "base_uri": "https://localhost:8080/"
        },
        "id": "Xate6df5U_Kz",
        "outputId": "60fcacc1-e9dc-4040-8344-a392eeeee047"
      },
      "execution_count": null,
      "outputs": [
        {
          "output_type": "execute_result",
          "data": {
            "text/plain": [
              "4"
            ]
          },
          "metadata": {},
          "execution_count": 118
        }
      ]
    },
    {
      "cell_type": "code",
      "source": [
        "print('shh')"
      ],
      "metadata": {
        "colab": {
          "base_uri": "https://localhost:8080/",
          "height": 141
        },
        "id": "FSg2bSh1VAfe",
        "outputId": "0d94fd84-1bb2-4108-eff4-363bd675f80d"
      },
      "execution_count": null,
      "outputs": [
        {
          "output_type": "error",
          "ename": "TypeError",
          "evalue": "'int' object is not callable",
          "traceback": [
            "\u001b[0;31m---------------------------------------------------------------------------\u001b[0m",
            "\u001b[0;31mTypeError\u001b[0m                                 Traceback (most recent call last)",
            "\u001b[0;32m<ipython-input-119-47bb1ea92265>\u001b[0m in \u001b[0;36m<cell line: 1>\u001b[0;34m()\u001b[0m\n\u001b[0;32m----> 1\u001b[0;31m \u001b[0mprint\u001b[0m\u001b[0;34m(\u001b[0m\u001b[0;34m'shh'\u001b[0m\u001b[0;34m)\u001b[0m\u001b[0;34m\u001b[0m\u001b[0;34m\u001b[0m\u001b[0m\n\u001b[0m",
            "\u001b[0;31mTypeError\u001b[0m: 'int' object is not callable"
          ]
        }
      ]
    },
    {
      "cell_type": "code",
      "source": [
        "#This will redifine print to its builtin function\n",
        "import builtins\n",
        "print = builtins.print"
      ],
      "metadata": {
        "id": "0JwfI2TYKjEH"
      },
      "execution_count": null,
      "outputs": []
    },
    {
      "cell_type": "markdown",
      "source": [
        "#More Printing"
      ],
      "metadata": {
        "id": "1nbQdePb-QE-"
      }
    },
    {
      "cell_type": "code",
      "source": [
        "name = ' \"\"dope\"\" '"
      ],
      "metadata": {
        "id": "pe7bLoSQ7nfX"
      },
      "execution_count": null,
      "outputs": []
    },
    {
      "cell_type": "code",
      "source": [
        "print(name)"
      ],
      "metadata": {
        "colab": {
          "base_uri": "https://localhost:8080/"
        },
        "id": "WjAQwrDKgpfr",
        "outputId": "bac4111e-82fe-45ad-b01f-7e60fb2eb745"
      },
      "execution_count": null,
      "outputs": [
        {
          "output_type": "stream",
          "name": "stdout",
          "text": [
            " \"\"dope\"\" \n"
          ]
        }
      ]
    },
    {
      "cell_type": "code",
      "source": [
        "type(name)"
      ],
      "metadata": {
        "colab": {
          "base_uri": "https://localhost:8080/"
        },
        "id": "SW-KTfFWgrrl",
        "outputId": "b7084488-2a14-4e10-85b1-8f5c88218fd4"
      },
      "execution_count": null,
      "outputs": [
        {
          "output_type": "execute_result",
          "data": {
            "text/plain": [
              "str"
            ]
          },
          "metadata": {},
          "execution_count": 3
        }
      ]
    },
    {
      "cell_type": "markdown",
      "source": [
        "#Complex Numbers\n",
        "j is used as the complex indicator"
      ],
      "metadata": {
        "id": "_5hd8jsq-Uay"
      }
    },
    {
      "cell_type": "code",
      "source": [
        "com=2+3j\n",
        "print(com)\n",
        "type(com)"
      ],
      "metadata": {
        "id": "Fpmpl12hgxO0",
        "colab": {
          "base_uri": "https://localhost:8080/"
        },
        "outputId": "7fdc9179-d0c7-4168-82d4-3c7f0f1bb610"
      },
      "execution_count": null,
      "outputs": [
        {
          "output_type": "stream",
          "name": "stdout",
          "text": [
            "(2+3j)\n"
          ]
        },
        {
          "output_type": "execute_result",
          "data": {
            "text/plain": [
              "complex"
            ]
          },
          "metadata": {},
          "execution_count": 2
        }
      ]
    },
    {
      "cell_type": "markdown",
      "source": [
        "##Printing real part and imagenary part seperately"
      ],
      "metadata": {
        "id": "Tdpn1Ca1-YtE"
      }
    },
    {
      "cell_type": "code",
      "source": [
        "print(com.real)"
      ],
      "metadata": {
        "colab": {
          "base_uri": "https://localhost:8080/"
        },
        "id": "MAnv0o7zh356",
        "outputId": "1242a312-94c3-430c-da07-9e4c0a09346e"
      },
      "execution_count": null,
      "outputs": [
        {
          "output_type": "stream",
          "name": "stdout",
          "text": [
            "2.0\n"
          ]
        }
      ]
    },
    {
      "cell_type": "code",
      "source": [
        "print(com.imag)"
      ],
      "metadata": {
        "colab": {
          "base_uri": "https://localhost:8080/"
        },
        "id": "n0hO8otsjJth",
        "outputId": "af73da6d-17e8-45c5-a4a0-d423cd6ce0ec"
      },
      "execution_count": null,
      "outputs": [
        {
          "output_type": "stream",
          "name": "stdout",
          "text": [
            "3.0\n"
          ]
        }
      ]
    },
    {
      "cell_type": "code",
      "source": [
        "type(com.real)"
      ],
      "metadata": {
        "colab": {
          "base_uri": "https://localhost:8080/"
        },
        "id": "55kCigHnjNac",
        "outputId": "45cb2a00-e514-4734-dd03-724069eabbbb"
      },
      "execution_count": null,
      "outputs": [
        {
          "output_type": "execute_result",
          "data": {
            "text/plain": [
              "float"
            ]
          },
          "metadata": {},
          "execution_count": 19
        }
      ]
    },
    {
      "cell_type": "code",
      "source": [
        "type(com.imag)"
      ],
      "metadata": {
        "colab": {
          "base_uri": "https://localhost:8080/"
        },
        "id": "eLhHUbskjYsW",
        "outputId": "aaf69700-a773-41e8-cca6-5093bb3ef6f3"
      },
      "execution_count": null,
      "outputs": [
        {
          "output_type": "execute_result",
          "data": {
            "text/plain": [
              "float"
            ]
          },
          "metadata": {},
          "execution_count": 20
        }
      ]
    },
    {
      "cell_type": "markdown",
      "source": [
        "#Boolean Data Type"
      ],
      "metadata": {
        "id": "Gl9vyNG7-kzJ"
      }
    },
    {
      "cell_type": "code",
      "source": [
        "print(True+True+True)"
      ],
      "metadata": {
        "colab": {
          "base_uri": "https://localhost:8080/"
        },
        "id": "FoFZDefVlJ4s",
        "outputId": "99951652-5774-4d4f-afbf-eadf825995d2"
      },
      "execution_count": null,
      "outputs": [
        {
          "output_type": "stream",
          "name": "stdout",
          "text": [
            "3\n"
          ]
        }
      ]
    },
    {
      "cell_type": "code",
      "source": [
        "print(False+False+False)"
      ],
      "metadata": {
        "colab": {
          "base_uri": "https://localhost:8080/"
        },
        "id": "VLihK1MXlsFA",
        "outputId": "a57b881b-9a9e-4fa5-a667-0d746dcc7c37"
      },
      "execution_count": null,
      "outputs": [
        {
          "output_type": "stream",
          "name": "stdout",
          "text": [
            "0\n"
          ]
        }
      ]
    },
    {
      "cell_type": "code",
      "source": [
        "print(True and False)"
      ],
      "metadata": {
        "colab": {
          "base_uri": "https://localhost:8080/"
        },
        "id": "mM9IRa8XlxwK",
        "outputId": "24dde9db-ff13-457c-8eb4-7bd932488e3a"
      },
      "execution_count": null,
      "outputs": [
        {
          "output_type": "stream",
          "name": "stdout",
          "text": [
            "False\n"
          ]
        }
      ]
    },
    {
      "cell_type": "markdown",
      "source": [
        "#None Data type"
      ],
      "metadata": {
        "id": "2OIzMY40-qdj"
      }
    },
    {
      "cell_type": "code",
      "source": [
        "a=None"
      ],
      "metadata": {
        "id": "kNr5-_1il1ZT"
      },
      "execution_count": null,
      "outputs": []
    },
    {
      "cell_type": "code",
      "source": [
        "print(a)"
      ],
      "metadata": {
        "colab": {
          "base_uri": "https://localhost:8080/"
        },
        "id": "-9FLz7tBmvxC",
        "outputId": "720411b3-93d9-4415-f9f4-391830ea785b"
      },
      "execution_count": null,
      "outputs": [
        {
          "output_type": "stream",
          "name": "stdout",
          "text": [
            "None\n"
          ]
        }
      ]
    },
    {
      "cell_type": "code",
      "source": [
        "type(a)"
      ],
      "metadata": {
        "colab": {
          "base_uri": "https://localhost:8080/"
        },
        "id": "3-0gv7Cim-9a",
        "outputId": "cc714fe3-7903-4d08-8236-60d974403602"
      },
      "execution_count": null,
      "outputs": [
        {
          "output_type": "execute_result",
          "data": {
            "text/plain": [
              "NoneType"
            ]
          },
          "metadata": {},
          "execution_count": 29
        }
      ]
    },
    {
      "cell_type": "markdown",
      "source": [
        "# SEQUENCE TYPE (COLLECTION OF DATA)"
      ],
      "metadata": {
        "id": "OtMQOdLgfy8G"
      }
    },
    {
      "cell_type": "markdown",
      "source": [
        "##List\n",
        "Lists are ordered (the order of elements matters).\n",
        "\n",
        "Lists can contain any arbitrary objects (e.g., numbers, strings, functions, classes).\n",
        "\n",
        "List elements can be accessed by index.\n",
        "\n",
        "Lists can be nested (contain other lists).\n",
        "\n",
        "Lists are mutable (you can modify their contents).\n",
        "\n",
        "Lists are dynamic (you can add or remove elements)."
      ],
      "metadata": {
        "id": "FMn0MAREf2eT"
      }
    },
    {
      "cell_type": "code",
      "source": [
        "a = ['foo', 'bar', 'baz', 'qux']\n",
        "print(a)  # Output: ['foo', 'bar', 'baz', 'qux']"
      ],
      "metadata": {
        "colab": {
          "base_uri": "https://localhost:8080/"
        },
        "id": "jJTxdGX4gMfR",
        "outputId": "4be68659-db41-45e4-cd58-e678a704675a"
      },
      "execution_count": null,
      "outputs": [
        {
          "output_type": "stream",
          "name": "stdout",
          "text": [
            "['foo', 'bar', 'baz', 'qux']\n"
          ]
        }
      ]
    },
    {
      "cell_type": "markdown",
      "source": [
        "##Tuple\n",
        "A tuple is an ordered, immutable collection of objects.\n",
        "\n",
        "Tuples are immutable (you cannot modify their contents after creation).\n",
        "\n",
        "Tuples can contain any assortment of objects (similar to lists).\n",
        "\n",
        "Tuple elements can be accessed by index.\n",
        "\n",
        "Tuples are often used for grouping related data.\n",
        "\n",
        "Infinite Length\n",
        "\n",
        "iterable\n",
        "\n",
        "Allows Duplicate members"
      ],
      "metadata": {
        "id": "YFnNs_rEgXY1"
      }
    },
    {
      "cell_type": "code",
      "source": [
        "t = (10, 'apple', 3.14)\n",
        "print(t)  # Output: (10, 'apple', 3.14)\n"
      ],
      "metadata": {
        "colab": {
          "base_uri": "https://localhost:8080/"
        },
        "id": "8htSYuB0glX2",
        "outputId": "e29b4645-f667-4b51-8fca-567176e6f4ca"
      },
      "execution_count": null,
      "outputs": [
        {
          "output_type": "stream",
          "name": "stdout",
          "text": [
            "(10, 'apple', 3.14)\n"
          ]
        }
      ]
    },
    {
      "cell_type": "code",
      "source": [
        "t[1]"
      ],
      "metadata": {
        "colab": {
          "base_uri": "https://localhost:8080/",
          "height": 35
        },
        "id": "yCqwtotUg6L0",
        "outputId": "670d7f34-22ac-4573-fc7d-a4a92a920105"
      },
      "execution_count": null,
      "outputs": [
        {
          "output_type": "execute_result",
          "data": {
            "text/plain": [
              "'apple'"
            ],
            "application/vnd.google.colaboratory.intrinsic+json": {
              "type": "string"
            }
          },
          "metadata": {},
          "execution_count": 6
        }
      ]
    },
    {
      "cell_type": "code",
      "source": [
        "t.append(33) #Tuples are immutable (you cannot modify their contents after creation)."
      ],
      "metadata": {
        "colab": {
          "base_uri": "https://localhost:8080/",
          "height": 141
        },
        "id": "-xXxxVBJhK85",
        "outputId": "d8cc5d76-6e4a-4077-e96f-9573a49a1df6"
      },
      "execution_count": null,
      "outputs": [
        {
          "output_type": "error",
          "ename": "AttributeError",
          "evalue": "'tuple' object has no attribute 'append'",
          "traceback": [
            "\u001b[0;31m---------------------------------------------------------------------------\u001b[0m",
            "\u001b[0;31mAttributeError\u001b[0m                            Traceback (most recent call last)",
            "\u001b[0;32m<ipython-input-8-30249254fd32>\u001b[0m in \u001b[0;36m<cell line: 1>\u001b[0;34m()\u001b[0m\n\u001b[0;32m----> 1\u001b[0;31m \u001b[0mt\u001b[0m\u001b[0;34m.\u001b[0m\u001b[0mappend\u001b[0m\u001b[0;34m(\u001b[0m\u001b[0;36m33\u001b[0m\u001b[0;34m)\u001b[0m \u001b[0;31m#Tuples are immutable (you cannot modify their contents after creation).\u001b[0m\u001b[0;34m\u001b[0m\u001b[0;34m\u001b[0m\u001b[0m\n\u001b[0m",
            "\u001b[0;31mAttributeError\u001b[0m: 'tuple' object has no attribute 'append'"
          ]
        }
      ]
    },
    {
      "cell_type": "code",
      "source": [
        "t1=[\"apple\",\"banana\",\"cherry\"]\n",
        "t2=tuple(t1)\n",
        "print(type(t1))\n",
        "print(type(t2))\n",
        "t1[0]"
      ],
      "metadata": {
        "colab": {
          "base_uri": "https://localhost:8080/",
          "height": 70
        },
        "id": "QwGRH6Lu2NKQ",
        "outputId": "1a81d20b-86dc-403c-df12-d8fcb92c071d"
      },
      "execution_count": null,
      "outputs": [
        {
          "output_type": "stream",
          "name": "stdout",
          "text": [
            "<class 'list'>\n",
            "<class 'tuple'>\n"
          ]
        },
        {
          "output_type": "execute_result",
          "data": {
            "text/plain": [
              "'apple'"
            ],
            "application/vnd.google.colaboratory.intrinsic+json": {
              "type": "string"
            }
          },
          "metadata": {},
          "execution_count": 18
        }
      ]
    },
    {
      "cell_type": "code",
      "source": [
        "tuple?"
      ],
      "metadata": {
        "id": "2r_yWrOI6qTF"
      },
      "execution_count": null,
      "outputs": []
    },
    {
      "cell_type": "code",
      "source": [
        "t3=(\"jack\",\"john\",\"peter\",\"john\")\n",
        "t4=list(t3)\n",
        "print(t4)"
      ],
      "metadata": {
        "colab": {
          "base_uri": "https://localhost:8080/"
        },
        "id": "N6F9A5zs7Wf-",
        "outputId": "af3a0d01-d237-4b1e-90e2-83789855298d"
      },
      "execution_count": null,
      "outputs": [
        {
          "output_type": "stream",
          "name": "stdout",
          "text": [
            "['jack', 'john', 'peter', 'john']\n"
          ]
        }
      ]
    },
    {
      "cell_type": "code",
      "source": [
        "t5=(12,23,21)\n",
        "print(t3.count(\"john\"))\n",
        "print(sum(t5))\n",
        "print(t5.index(23))\n",
        "print(min(t5))\n",
        "print(max(t5))"
      ],
      "metadata": {
        "colab": {
          "base_uri": "https://localhost:8080/"
        },
        "id": "kszLvhAj8vtF",
        "outputId": "4de6fcee-8a5f-49b8-c5a7-63e9f44ca64c"
      },
      "execution_count": null,
      "outputs": [
        {
          "output_type": "stream",
          "name": "stdout",
          "text": [
            "2\n",
            "56\n",
            "1\n",
            "12\n",
            "23\n"
          ]
        }
      ]
    },
    {
      "cell_type": "markdown",
      "source": [
        "##Range\n",
        "A range represents an immutable sequence of numbers.\n",
        "\n",
        "It is commonly used for looping and generating sequences of integers.\n",
        "\n",
        "Ranges are defined using the range() function."
      ],
      "metadata": {
        "id": "FCRjNh_cgpsV"
      }
    },
    {
      "cell_type": "code",
      "source": [
        "r1 = range(1, 10)  # Generates numbers from 1 to 9\n",
        "print(list(r1))  # Output: [1, 2, 3, 4, 5, 6, 7, 8, 9]"
      ],
      "metadata": {
        "colab": {
          "base_uri": "https://localhost:8080/"
        },
        "id": "G7_1iXXOgyzO",
        "outputId": "4da602c7-4f90-44e6-b07a-87031353c865"
      },
      "execution_count": null,
      "outputs": [
        {
          "output_type": "stream",
          "name": "stdout",
          "text": [
            "[1, 2, 3, 4, 5, 6, 7, 8, 9]\n"
          ]
        }
      ]
    },
    {
      "cell_type": "code",
      "source": [
        "r2 = range(1,20,3)\n",
        "\n",
        "print(r2)\n",
        "\n",
        "print(list(r2))\n",
        "\n",
        "for n in r2:\n",
        "  print(n)"
      ],
      "metadata": {
        "colab": {
          "base_uri": "https://localhost:8080/"
        },
        "id": "YSeFxQAR-apj",
        "outputId": "6ec78d95-9e47-4756-f98d-58647dc7ffb0"
      },
      "execution_count": null,
      "outputs": [
        {
          "output_type": "stream",
          "name": "stdout",
          "text": [
            "range(1, 20, 3)\n",
            "[1, 4, 7, 10, 13, 16, 19]\n",
            "1\n",
            "4\n",
            "7\n",
            "10\n",
            "13\n",
            "16\n",
            "19\n"
          ]
        }
      ]
    },
    {
      "cell_type": "markdown",
      "source": [
        "#Mapping Types\n",
        "##Dictionary\n",
        "A dictionary is an ordered collection of unique values stored as key-value pairs.\n",
        "\n",
        "Each key in the dictionary maps to a corresponding value.\n",
        "\n",
        "Dictionaries are created using curly braces {} and contain comma-separated key-value pairs.\n",
        "\n",
        "ordered: Starting from Python 3.7, dictionaries maintain the order of insertion\n",
        "\n",
        "mutable: You can modify, add, or remove items from a dictionary after its creation.\n",
        "\n",
        "No Duplicates: Each key in a dictionary is unique; duplicate keys are not allowed.\n",
        "\n",
        "Access by Key: You can access values by using their corresponding keys.\n",
        "\n",
        "Flexible Data Types: Dictionary values can be of any data type (e.g., strings, integers, lists, other dictionaries).\n",
        "\n",
        "key of a dictionary can only be immutable objects. (eg: tuple, string, numbers(int,float,complex))\n",
        "\n",
        "list, dictionary, set these cannot be a key of a dictionary"
      ],
      "metadata": {
        "id": "TgoUi65eh3SS"
      }
    },
    {
      "cell_type": "code",
      "source": [
        "my_dict = {\"name\": \"Alice\", \"age\": 30, \"city\": \"New York\"}"
      ],
      "metadata": {
        "id": "aTLnbme0iXiW"
      },
      "execution_count": null,
      "outputs": []
    },
    {
      "cell_type": "code",
      "source": [
        "#Accessing Values:\n",
        "#Retrieve values by using their keys\n",
        "print(my_dict[\"name\"])  # Output: \"Alice\""
      ],
      "metadata": {
        "colab": {
          "base_uri": "https://localhost:8080/"
        },
        "id": "FCqQXuATi7k2",
        "outputId": "c3166a72-a898-4c9b-8e34-b56e6e850e14"
      },
      "execution_count": null,
      "outputs": [
        {
          "output_type": "stream",
          "name": "stdout",
          "text": [
            "Alice\n"
          ]
        }
      ]
    },
    {
      "cell_type": "code",
      "source": [
        "#Modify an existing value\n",
        "my_dict[\"age\"] = 31\n",
        "print(my_dict)"
      ],
      "metadata": {
        "colab": {
          "base_uri": "https://localhost:8080/"
        },
        "id": "3v1JIEsmjEAR",
        "outputId": "a3f4e3e7-76bc-4941-da53-0ec6eff77fc6"
      },
      "execution_count": null,
      "outputs": [
        {
          "output_type": "stream",
          "name": "stdout",
          "text": [
            "{'name': 'Alice', 'age': 31, 'city': 'New York'}\n"
          ]
        }
      ]
    },
    {
      "cell_type": "code",
      "source": [
        "#Add a new key-value pair\n",
        "my_dict[\"gender\"] = \"Female\"\n",
        "print(my_dict)"
      ],
      "metadata": {
        "colab": {
          "base_uri": "https://localhost:8080/"
        },
        "id": "TX-9QZyOjZWD",
        "outputId": "1f3678a8-25de-456e-e77e-57b85be30c8c"
      },
      "execution_count": null,
      "outputs": [
        {
          "output_type": "stream",
          "name": "stdout",
          "text": [
            "{'name': 'Alice', 'age': 31, 'city': 'New York', 'gender': 'Female'}\n"
          ]
        }
      ]
    },
    {
      "cell_type": "code",
      "source": [
        "#Removing Items:\n",
        "#Use the del keyword to remove a key-value pair:\n",
        "del my_dict[\"city\"]\n",
        "print(my_dict)"
      ],
      "metadata": {
        "colab": {
          "base_uri": "https://localhost:8080/"
        },
        "id": "zGgv32StjhU-",
        "outputId": "7a5ad5fa-1d25-4541-dd8d-e56663563f28"
      },
      "execution_count": null,
      "outputs": [
        {
          "output_type": "stream",
          "name": "stdout",
          "text": [
            "{'name': 'Alice', 'age': 31, 'gender': 'Female'}\n"
          ]
        }
      ]
    },
    {
      "cell_type": "code",
      "source": [
        "#Length of a Dictionary:\n",
        "#To find the number of key-value pairs in a dictionary, use the len() function\n",
        "print(len(my_dict))  # Output: 3"
      ],
      "metadata": {
        "colab": {
          "base_uri": "https://localhost:8080/"
        },
        "id": "jA_YS8W6jrPg",
        "outputId": "a55528e9-fa5d-4261-abd6-ef6e9855a47a"
      },
      "execution_count": null,
      "outputs": [
        {
          "output_type": "stream",
          "name": "stdout",
          "text": [
            "3\n"
          ]
        }
      ]
    },
    {
      "cell_type": "code",
      "source": [
        "dict1 = {\"name\" : \"Hadhi\", \"age\" : 21, \"sex\" : \"Male\"}"
      ],
      "metadata": {
        "id": "ITb8HUauPIYG"
      },
      "execution_count": null,
      "outputs": []
    },
    {
      "cell_type": "code",
      "source": [
        "dict1[1] # Dictionary cannot be assesed with index numbers"
      ],
      "metadata": {
        "colab": {
          "base_uri": "https://localhost:8080/",
          "height": 141
        },
        "id": "rdUA45mhPqiv",
        "outputId": "b19e4d92-760f-45ca-a1c5-a9dd3571747b"
      },
      "execution_count": null,
      "outputs": [
        {
          "output_type": "error",
          "ename": "KeyError",
          "evalue": "1",
          "traceback": [
            "\u001b[0;31m---------------------------------------------------------------------------\u001b[0m",
            "\u001b[0;31mKeyError\u001b[0m                                  Traceback (most recent call last)",
            "\u001b[0;32m<ipython-input-14-7f8d9d8ed4b0>\u001b[0m in \u001b[0;36m<cell line: 1>\u001b[0;34m()\u001b[0m\n\u001b[0;32m----> 1\u001b[0;31m \u001b[0mdict1\u001b[0m\u001b[0;34m[\u001b[0m\u001b[0;36m1\u001b[0m\u001b[0;34m]\u001b[0m\u001b[0;34m\u001b[0m\u001b[0;34m\u001b[0m\u001b[0m\n\u001b[0m",
            "\u001b[0;31mKeyError\u001b[0m: 1"
          ]
        }
      ]
    },
    {
      "cell_type": "code",
      "source": [
        "dict1[\"Age\"] #Case sensitive"
      ],
      "metadata": {
        "colab": {
          "base_uri": "https://localhost:8080/",
          "height": 35
        },
        "id": "vyAQ-Z8cQd0S",
        "outputId": "ee3dafd7-8bcc-435f-cbd8-71a8a7158994"
      },
      "execution_count": null,
      "outputs": [
        {
          "output_type": "execute_result",
          "data": {
            "text/plain": [
              "'Hadhi'"
            ],
            "application/vnd.google.colaboratory.intrinsic+json": {
              "type": "string"
            }
          },
          "metadata": {},
          "execution_count": 16
        }
      ]
    },
    {
      "cell_type": "code",
      "source": [
        "dict1[\"name\"]=\"Hadhi Mishab P K\""
      ],
      "metadata": {
        "id": "LwgMNXIWQ2xK"
      },
      "execution_count": null,
      "outputs": []
    },
    {
      "cell_type": "code",
      "source": [
        "print(dict1)"
      ],
      "metadata": {
        "id": "U0b8aZKLRDpj"
      },
      "execution_count": null,
      "outputs": []
    },
    {
      "cell_type": "code",
      "source": [
        "dict2={\"name\":\"Hunt\",\"age\":22,\"sex\":\"Male\",\"Occupation\":\"F1 Driver\"}\n",
        "print(dict2)\n",
        "print(dict2[\"Occupation\"])"
      ],
      "metadata": {
        "colab": {
          "base_uri": "https://localhost:8080/"
        },
        "id": "tjeEMsLlKsna",
        "outputId": "f39fc6de-7615-4848-b3ce-436a6214da09"
      },
      "execution_count": null,
      "outputs": [
        {
          "output_type": "stream",
          "name": "stdout",
          "text": [
            "{'name': 'Hunt', 'age': 22, 'sex': 'Male', 'Occupation': 'F1 Driver'}\n",
            "F1 Driver\n"
          ]
        }
      ]
    },
    {
      "cell_type": "markdown",
      "source": [
        "### Adding a data to dictionary"
      ],
      "metadata": {
        "id": "L4MSOoRpI2_B"
      }
    },
    {
      "cell_type": "code",
      "source": [
        "dict2[\"language\"]=\"english\""
      ],
      "metadata": {
        "id": "XvFFA47HI7ld"
      },
      "execution_count": null,
      "outputs": []
    },
    {
      "cell_type": "code",
      "source": [
        "dict2"
      ],
      "metadata": {
        "colab": {
          "base_uri": "https://localhost:8080/"
        },
        "id": "dob8qT9NJIjY",
        "outputId": "1a5e04fc-3017-45a2-ffa1-43393f8dce1c"
      },
      "execution_count": null,
      "outputs": [
        {
          "output_type": "execute_result",
          "data": {
            "text/plain": [
              "{'name': 'Hunt',\n",
              " 'age': 22,\n",
              " 'sex': 'Male',\n",
              " 'Occupation': 'F1 Driver',\n",
              " 'language': 'english'}"
            ]
          },
          "metadata": {},
          "execution_count": 3
        }
      ]
    },
    {
      "cell_type": "code",
      "source": [
        "dict2.update({\"age\":31})"
      ],
      "metadata": {
        "id": "05Iw4FH2J3j4"
      },
      "execution_count": null,
      "outputs": []
    },
    {
      "cell_type": "code",
      "source": [
        "print(dict2)"
      ],
      "metadata": {
        "colab": {
          "base_uri": "https://localhost:8080/"
        },
        "id": "ee3B4qV7KLNq",
        "outputId": "c776c298-bfe2-4976-b6c7-9eef6885e723"
      },
      "execution_count": null,
      "outputs": [
        {
          "output_type": "stream",
          "name": "stdout",
          "text": [
            "{'name': 'Hunt', 'age': 31, 'sex': 'Male', 'Occupation': 'F1 Driver', 'language': 'english'}\n"
          ]
        }
      ]
    },
    {
      "cell_type": "code",
      "source": [],
      "metadata": {
        "id": "MuD4zPVeM4ye"
      },
      "execution_count": null,
      "outputs": []
    },
    {
      "cell_type": "code",
      "source": [],
      "metadata": {
        "id": "RE2zvOMQM4uj"
      },
      "execution_count": null,
      "outputs": []
    },
    {
      "cell_type": "code",
      "source": [
        "dict3={\"name\":\"Jack\",\"age\":22,\"sex\":\"Male\",\"Occupation\":\"F1 Driver\",\"language\":\"english\",\"car\":\"Maclaren\"}"
      ],
      "metadata": {
        "id": "JuOH2OSaMcBS"
      },
      "execution_count": null,
      "outputs": []
    },
    {
      "cell_type": "code",
      "source": [
        "print(dict3)"
      ],
      "metadata": {
        "colab": {
          "base_uri": "https://localhost:8080/"
        },
        "id": "URa6gcR2OMJ7",
        "outputId": "ce52a444-9fa0-4985-9205-c267e4d5d67f"
      },
      "execution_count": null,
      "outputs": [
        {
          "output_type": "stream",
          "name": "stdout",
          "text": [
            "{'name': 'Jack', 'age': 22, 'sex': 'Male', 'Occupation': 'F1 Driver', 'language': 'english', 'car': 'Maclaren'}\n"
          ]
        }
      ]
    },
    {
      "cell_type": "code",
      "source": [
        "del dict3[\"sex\"]"
      ],
      "metadata": {
        "id": "sCgfMgY3Mf99"
      },
      "execution_count": null,
      "outputs": []
    },
    {
      "cell_type": "code",
      "source": [
        "print(dict3)"
      ],
      "metadata": {
        "colab": {
          "base_uri": "https://localhost:8080/"
        },
        "id": "FuIbQ6ddMnAQ",
        "outputId": "21a2c421-d022-4876-bd15-1a31fc851fb8"
      },
      "execution_count": null,
      "outputs": [
        {
          "output_type": "stream",
          "name": "stdout",
          "text": [
            "{'name': 'Jack', 'age': 22, 'Occupation': 'F1 Driver', 'language': 'english', 'car': 'Maclaren'}\n"
          ]
        }
      ]
    },
    {
      "cell_type": "code",
      "source": [
        "dict3.pop(\"name\") # this will pop the indicated item"
      ],
      "metadata": {
        "colab": {
          "base_uri": "https://localhost:8080/",
          "height": 35
        },
        "id": "bWX0-LQfMsaF",
        "outputId": "8b774162-105a-4836-822e-847e79e9a54f"
      },
      "execution_count": null,
      "outputs": [
        {
          "output_type": "execute_result",
          "data": {
            "text/plain": [
              "'Jack'"
            ],
            "application/vnd.google.colaboratory.intrinsic+json": {
              "type": "string"
            }
          },
          "metadata": {},
          "execution_count": 57
        }
      ]
    },
    {
      "cell_type": "code",
      "source": [
        "print(dict3)"
      ],
      "metadata": {
        "colab": {
          "base_uri": "https://localhost:8080/"
        },
        "id": "42evp_i5Mya6",
        "outputId": "51fed57e-86cf-4281-8ce0-a001ec8b591b"
      },
      "execution_count": null,
      "outputs": [
        {
          "output_type": "stream",
          "name": "stdout",
          "text": [
            "{'age': 22, 'Occupation': 'F1 Driver', 'language': 'english', 'car': 'Maclaren'}\n"
          ]
        }
      ]
    },
    {
      "cell_type": "code",
      "source": [
        "dict3.popitem() # this will pop out the last item"
      ],
      "metadata": {
        "colab": {
          "base_uri": "https://localhost:8080/"
        },
        "id": "sMiAjS70NLbS",
        "outputId": "a482f8b4-a352-408b-adc9-9c2cf60a6df5"
      },
      "execution_count": null,
      "outputs": [
        {
          "output_type": "execute_result",
          "data": {
            "text/plain": [
              "('car', 'Maclaren')"
            ]
          },
          "metadata": {},
          "execution_count": 59
        }
      ]
    },
    {
      "cell_type": "code",
      "source": [
        "print(dict3)"
      ],
      "metadata": {
        "colab": {
          "base_uri": "https://localhost:8080/"
        },
        "id": "FKXMZzpfNOdP",
        "outputId": "ae215810-e724-40f4-c745-e4c022f13c79"
      },
      "execution_count": null,
      "outputs": [
        {
          "output_type": "stream",
          "name": "stdout",
          "text": [
            "{'age': 22, 'Occupation': 'F1 Driver', 'language': 'english'}\n"
          ]
        }
      ]
    },
    {
      "cell_type": "code",
      "source": [
        "print(dict3[\"Occupation\"]) # this is like acessing the data. square brackeets. shows error if we input someting which is not a key"
      ],
      "metadata": {
        "colab": {
          "base_uri": "https://localhost:8080/"
        },
        "id": "wiFbeg8mNUAX",
        "outputId": "f15dc32b-bc5c-4e9d-9a7e-d9c9428ade11"
      },
      "execution_count": null,
      "outputs": [
        {
          "output_type": "stream",
          "name": "stdout",
          "text": [
            "F1 Driver\n"
          ]
        }
      ]
    },
    {
      "cell_type": "code",
      "source": [
        "print(dict3.get(\"Occupatn\")) # this is like a search. round brackets, shows the result if the input is available as a key. if not, returns none"
      ],
      "metadata": {
        "colab": {
          "base_uri": "https://localhost:8080/"
        },
        "id": "_n7ZstyqNa6k",
        "outputId": "4029983e-179d-4206-c640-9e4417c6d50b"
      },
      "execution_count": null,
      "outputs": [
        {
          "output_type": "stream",
          "name": "stdout",
          "text": [
            "None\n"
          ]
        }
      ]
    },
    {
      "cell_type": "code",
      "source": [
        "print(dict3.keys())"
      ],
      "metadata": {
        "colab": {
          "base_uri": "https://localhost:8080/"
        },
        "id": "h0Yt_8kxOcxv",
        "outputId": "bd64011e-407e-4930-99c6-b127ed6d6222"
      },
      "execution_count": null,
      "outputs": [
        {
          "output_type": "stream",
          "name": "stdout",
          "text": [
            "dict_keys(['age', 'Occupation', 'language'])\n"
          ]
        }
      ]
    },
    {
      "cell_type": "code",
      "source": [
        "print(dict3.values())"
      ],
      "metadata": {
        "colab": {
          "base_uri": "https://localhost:8080/"
        },
        "id": "aj-H1Y4dOg5s",
        "outputId": "00119021-7758-430f-86ea-bd671045c9de"
      },
      "execution_count": null,
      "outputs": [
        {
          "output_type": "stream",
          "name": "stdout",
          "text": [
            "dict_values([22, 'F1 Driver', 'english'])\n"
          ]
        }
      ]
    },
    {
      "cell_type": "code",
      "source": [
        "type(dict3.keys())"
      ],
      "metadata": {
        "colab": {
          "base_uri": "https://localhost:8080/"
        },
        "id": "SQ4LygdnOnRi",
        "outputId": "e62039ce-effd-4891-8640-0ea2386f01d2"
      },
      "execution_count": null,
      "outputs": [
        {
          "output_type": "execute_result",
          "data": {
            "text/plain": [
              "dict_keys"
            ]
          },
          "metadata": {},
          "execution_count": 65
        }
      ]
    },
    {
      "cell_type": "markdown",
      "source": [
        "# Set Types"
      ],
      "metadata": {
        "id": "kA-ggDVTk2QI"
      }
    },
    {
      "cell_type": "markdown",
      "source": [
        "## 1  Set\n",
        "A set is an unordered collection of unique elements.\n",
        "\n",
        "Sets are mutable, meaning you can add or remove elements.\n",
        "\n",
        "Sets do not allow duplicate values.\n",
        "\n",
        "Sets are represented by curly braces {} or by using the set() constructor.\n",
        "\n",
        "You can perform set operations like union, intersection, and difference"
      ],
      "metadata": {
        "id": "RhrAx-F7kVQV"
      }
    },
    {
      "cell_type": "code",
      "source": [
        "my_set = {1, 2, 3, 4}\n",
        "print(my_set)  # Output: {1, 2, 3, 4}\n"
      ],
      "metadata": {
        "colab": {
          "base_uri": "https://localhost:8080/"
        },
        "id": "mgoCXdzVkc9a",
        "outputId": "de06bb6c-109c-4200-e766-0c45eabff846"
      },
      "execution_count": null,
      "outputs": [
        {
          "output_type": "stream",
          "name": "stdout",
          "text": [
            "{1, 2, 3, 4}\n"
          ]
        }
      ]
    },
    {
      "cell_type": "code",
      "source": [
        "names={\"peter\",\"john\",\"jack\"}\n",
        "print(names)\n",
        "names.add(\"jimi\")\n",
        "print(names)\n",
        "k=names.pop()\n",
        "print(k)\n",
        "names.remove(\"peter\")\n",
        "print(names)\n",
        "names.clear()\n",
        "print(names)"
      ],
      "metadata": {
        "colab": {
          "base_uri": "https://localhost:8080/"
        },
        "id": "nWDI6jZGBTJa",
        "outputId": "350bc174-eff2-43bf-ec9f-c62d397d553b"
      },
      "execution_count": null,
      "outputs": [
        {
          "output_type": "stream",
          "name": "stdout",
          "text": [
            "{'john', 'jack', 'peter'}\n",
            "{'john', 'jack', 'peter', 'jimi'}\n",
            "john\n",
            "{'jack', 'jimi'}\n",
            "set()\n"
          ]
        }
      ]
    },
    {
      "cell_type": "code",
      "source": [
        "set1={\"cap\",\"shirt\",\"shoes\",\"pants\"}\n",
        "set2={\"cap\",\"shirt\",\"shoes\"}\n",
        "b=set1.intersection(set2)\n",
        "print(b)\n",
        "c=set1.union(set2) # is same as c=set.union(set1,set2)\n",
        "print(c)\n",
        "d=set1.difference(set2)\n",
        "print(d)\n",
        "b==set.intersection(set1,set2)\n",
        "f=c=set.union(set1,set2)\n",
        "print(f)"
      ],
      "metadata": {
        "colab": {
          "base_uri": "https://localhost:8080/"
        },
        "id": "5j0SQwQXHE2h",
        "outputId": "3227352a-8800-4c2f-ff35-c789b66dbfa5"
      },
      "execution_count": null,
      "outputs": [
        {
          "output_type": "stream",
          "name": "stdout",
          "text": [
            "{'shirt', 'shoes', 'cap'}\n",
            "{'shoes', 'cap', 'shirt', 'pants'}\n",
            "{'pants'}\n",
            "{'shoes', 'cap', 'shirt', 'pants'}\n"
          ]
        }
      ]
    },
    {
      "cell_type": "code",
      "source": [
        "print(set.isdisjoint(set1,set2))"
      ],
      "metadata": {
        "colab": {
          "base_uri": "https://localhost:8080/"
        },
        "id": "0kV2nR-rI4y-",
        "outputId": "4e98de9e-6913-48b1-d469-3b644b62b4c4"
      },
      "execution_count": null,
      "outputs": [
        {
          "output_type": "stream",
          "name": "stdout",
          "text": [
            "False\n"
          ]
        }
      ]
    },
    {
      "cell_type": "code",
      "source": [
        "print(set1.isdisjoint(set2))"
      ],
      "metadata": {
        "colab": {
          "base_uri": "https://localhost:8080/"
        },
        "id": "A8EBZSmuJLb3",
        "outputId": "5822f695-fb3e-4170-ab65-270f7f73e0b1"
      },
      "execution_count": null,
      "outputs": [
        {
          "output_type": "stream",
          "name": "stdout",
          "text": [
            "False\n"
          ]
        }
      ]
    },
    {
      "cell_type": "markdown",
      "source": [
        "##Frozenset\n",
        "A frozenset is an immutable version of a set\n",
        "\n",
        "Frozensets cannot be modified after creation (no adding or removing elements).\n",
        "\n",
        "Frozensets are hashable, which means they can be used as dictionary keys or as elements of another set."
      ],
      "metadata": {
        "id": "eqpG7PaZkhGy"
      }
    },
    {
      "cell_type": "code",
      "source": [
        "my_frozenset = frozenset([10, 20, 30])\n",
        "print(my_frozenset)  # Output: frozenset({10, 20, 30})\n"
      ],
      "metadata": {
        "colab": {
          "base_uri": "https://localhost:8080/"
        },
        "id": "5NcpeZkIkquV",
        "outputId": "7ec737ea-d340-482b-bcf2-a94304c1324e"
      },
      "execution_count": null,
      "outputs": [
        {
          "output_type": "stream",
          "name": "stdout",
          "text": [
            "frozenset({10, 20, 30})\n"
          ]
        }
      ]
    },
    {
      "cell_type": "code",
      "source": [
        "set3={1,2,3,4}\n",
        "set5=(11,22,33,44)\n",
        "set4=frozenset(set3)\n",
        "print(set4)\n",
        "print(type(set4))\n",
        "print(type(set3))\n",
        "set3.add(23)\n",
        "print(set3)\n",
        "print(set4.union(set5)) #the union of a frozen set with any other set is also a frozen set"
      ],
      "metadata": {
        "colab": {
          "base_uri": "https://localhost:8080/"
        },
        "id": "cyi8dZl4JdeP",
        "outputId": "4f77eee2-2192-41a3-c440-707c8786081f"
      },
      "execution_count": null,
      "outputs": [
        {
          "output_type": "stream",
          "name": "stdout",
          "text": [
            "frozenset({1, 2, 3, 4})\n",
            "<class 'frozenset'>\n",
            "<class 'set'>\n",
            "{1, 2, 3, 4, 23}\n",
            "frozenset({1, 2, 3, 4, 33, 11, 44, 22})\n"
          ]
        }
      ]
    },
    {
      "cell_type": "markdown",
      "source": [
        "# BOOLEAN DATA TYPES\n",
        "\n",
        "  True\n",
        "\n",
        "  False"
      ],
      "metadata": {
        "id": "09-WDSLhmupZ"
      }
    },
    {
      "cell_type": "markdown",
      "source": [
        "#Data type casting"
      ],
      "metadata": {
        "id": "bUgXbsL-fkhM"
      }
    },
    {
      "cell_type": "code",
      "source": [
        "age=19"
      ],
      "metadata": {
        "id": "rHhF9jaWns0E"
      },
      "execution_count": null,
      "outputs": []
    },
    {
      "cell_type": "code",
      "source": [
        "print(type(age))"
      ],
      "metadata": {
        "colab": {
          "base_uri": "https://localhost:8080/"
        },
        "id": "r7akBJg5nwDS",
        "outputId": "6e2698cd-1391-485d-a9b0-36a7df6d6071"
      },
      "execution_count": null,
      "outputs": [
        {
          "output_type": "stream",
          "name": "stdout",
          "text": [
            "<class 'int'>\n"
          ]
        }
      ]
    },
    {
      "cell_type": "code",
      "source": [
        "age=str(age)"
      ],
      "metadata": {
        "id": "ORZEZuXnnytb"
      },
      "execution_count": null,
      "outputs": []
    },
    {
      "cell_type": "code",
      "source": [
        "print(type(age))"
      ],
      "metadata": {
        "colab": {
          "base_uri": "https://localhost:8080/"
        },
        "id": "61xKdc5en3Uq",
        "outputId": "d431e7ee-0576-4463-caab-3123d5afe9ec"
      },
      "execution_count": null,
      "outputs": [
        {
          "output_type": "stream",
          "name": "stdout",
          "text": [
            "<class 'str'>\n"
          ]
        }
      ]
    },
    {
      "cell_type": "code",
      "source": [
        "num=13.23"
      ],
      "metadata": {
        "id": "nf1FgDE9n7_o"
      },
      "execution_count": null,
      "outputs": []
    },
    {
      "cell_type": "code",
      "source": [
        "num1=int(num)"
      ],
      "metadata": {
        "id": "RV2CUaycoBln"
      },
      "execution_count": null,
      "outputs": []
    },
    {
      "cell_type": "code",
      "source": [
        "type(num)"
      ],
      "metadata": {
        "colab": {
          "base_uri": "https://localhost:8080/"
        },
        "id": "5LNKf2w4oFlu",
        "outputId": "7956086d-9725-4f94-ba88-2f915d396706"
      },
      "execution_count": null,
      "outputs": [
        {
          "output_type": "execute_result",
          "data": {
            "text/plain": [
              "float"
            ]
          },
          "metadata": {},
          "execution_count": 39
        }
      ]
    },
    {
      "cell_type": "code",
      "source": [
        "type(num1)"
      ],
      "metadata": {
        "colab": {
          "base_uri": "https://localhost:8080/"
        },
        "id": "Kj8fNnk4oJAd",
        "outputId": "a6b167e3-de0a-43a2-83d3-deb064c4d252"
      },
      "execution_count": null,
      "outputs": [
        {
          "output_type": "execute_result",
          "data": {
            "text/plain": [
              "int"
            ]
          },
          "metadata": {},
          "execution_count": 40
        }
      ]
    },
    {
      "cell_type": "code",
      "source": [
        "print(num)"
      ],
      "metadata": {
        "colab": {
          "base_uri": "https://localhost:8080/"
        },
        "id": "qsQs3SMuoNoO",
        "outputId": "e57bba6a-d1c1-4ffb-8535-820d270a714e"
      },
      "execution_count": null,
      "outputs": [
        {
          "output_type": "stream",
          "name": "stdout",
          "text": [
            "13.23\n"
          ]
        }
      ]
    },
    {
      "cell_type": "code",
      "source": [
        "print(num1)"
      ],
      "metadata": {
        "colab": {
          "base_uri": "https://localhost:8080/"
        },
        "id": "fXqzfO0NoQ3Y",
        "outputId": "f1c688c1-b602-4258-9fce-0662b6af40e4"
      },
      "execution_count": null,
      "outputs": [
        {
          "output_type": "stream",
          "name": "stdout",
          "text": [
            "13\n"
          ]
        }
      ]
    },
    {
      "cell_type": "code",
      "source": [
        "num2=complex(num)"
      ],
      "metadata": {
        "id": "oMhYEwtqoSHN"
      },
      "execution_count": null,
      "outputs": []
    },
    {
      "cell_type": "code",
      "source": [
        "type(num2)"
      ],
      "metadata": {
        "colab": {
          "base_uri": "https://localhost:8080/"
        },
        "id": "fFMzj5ryoYTd",
        "outputId": "82b617af-a4e4-4950-a3a0-445f5b00cd2a"
      },
      "execution_count": null,
      "outputs": [
        {
          "output_type": "execute_result",
          "data": {
            "text/plain": [
              "complex"
            ]
          },
          "metadata": {},
          "execution_count": 44
        }
      ]
    },
    {
      "cell_type": "code",
      "source": [
        "print(num2)"
      ],
      "metadata": {
        "colab": {
          "base_uri": "https://localhost:8080/"
        },
        "id": "7Ca6GUUqoa9B",
        "outputId": "61dafc89-520a-4281-e601-848e645351fe"
      },
      "execution_count": null,
      "outputs": [
        {
          "output_type": "stream",
          "name": "stdout",
          "text": [
            "(13.23+0j)\n"
          ]
        }
      ]
    },
    {
      "cell_type": "code",
      "source": [
        "print(num2.imag)"
      ],
      "metadata": {
        "colab": {
          "base_uri": "https://localhost:8080/"
        },
        "id": "1bhgOqSHocyP",
        "outputId": "4c82aa78-a7af-42a8-e137-5a17b687d217"
      },
      "execution_count": null,
      "outputs": [
        {
          "output_type": "stream",
          "name": "stdout",
          "text": [
            "0.0\n"
          ]
        }
      ]
    },
    {
      "cell_type": "code",
      "source": [
        "print(num2.real)"
      ],
      "metadata": {
        "colab": {
          "base_uri": "https://localhost:8080/"
        },
        "id": "4cx-GQvPohOI",
        "outputId": "e89afaa8-a5e2-44bc-8e9d-f08ece086e3e"
      },
      "execution_count": null,
      "outputs": [
        {
          "output_type": "stream",
          "name": "stdout",
          "text": [
            "13.23\n"
          ]
        }
      ]
    },
    {
      "cell_type": "code",
      "source": [
        "num2real=num2.real"
      ],
      "metadata": {
        "id": "i9l8fRF4pAZ-"
      },
      "execution_count": null,
      "outputs": []
    },
    {
      "cell_type": "markdown",
      "source": [
        "# Operators\n",
        "  Arithmetic Operators\n",
        "\n",
        "  Assignment Operators.\n",
        "  \n",
        "  comparison Operators\n",
        "  \n",
        "  Logical Operators\n",
        "  \n",
        "  Identity Operators\n",
        "  \n",
        "  Membership Opgators\n",
        "\n",
        "## Arithmetic Operator\n",
        "\n",
        "  Addition\n",
        "\n",
        "  Subtraction\n",
        "\n",
        "  Multiplication\n",
        "\n",
        "  Modulus\n",
        "\n",
        "  Exponentiation\n",
        "\n",
        "  Floor Division"
      ],
      "metadata": {
        "id": "MZfl6HhSrUTD"
      }
    },
    {
      "cell_type": "markdown",
      "source": [
        "#Addition"
      ],
      "metadata": {
        "id": "q8LnsGgHseTp"
      }
    },
    {
      "cell_type": "code",
      "source": [
        "x=23\n",
        "y=34\n",
        "print(x+y)"
      ],
      "metadata": {
        "colab": {
          "base_uri": "https://localhost:8080/"
        },
        "id": "I_AymfkXpIuP",
        "outputId": "f24b2d04-1868-4f0c-9c16-c9062b68f821"
      },
      "execution_count": null,
      "outputs": [
        {
          "output_type": "stream",
          "name": "stdout",
          "text": [
            "57\n"
          ]
        }
      ]
    },
    {
      "cell_type": "code",
      "source": [
        "print(type(x+y))"
      ],
      "metadata": {
        "colab": {
          "base_uri": "https://localhost:8080/"
        },
        "id": "cfGxU1-_sm5v",
        "outputId": "de80bc9a-63f6-4497-bec6-05827efe6ae1"
      },
      "execution_count": null,
      "outputs": [
        {
          "output_type": "stream",
          "name": "stdout",
          "text": [
            "<class 'int'>\n"
          ]
        }
      ]
    },
    {
      "cell_type": "code",
      "source": [
        "print(x-y)"
      ],
      "metadata": {
        "colab": {
          "base_uri": "https://localhost:8080/"
        },
        "id": "VfIfqKlPsp_P",
        "outputId": "1139bd56-543f-4313-9ae9-479a0697d0b5"
      },
      "execution_count": null,
      "outputs": [
        {
          "output_type": "stream",
          "name": "stdout",
          "text": [
            "-11\n"
          ]
        }
      ]
    },
    {
      "cell_type": "code",
      "source": [
        "print(x*y)"
      ],
      "metadata": {
        "colab": {
          "base_uri": "https://localhost:8080/"
        },
        "id": "jw4UD8tZsshN",
        "outputId": "e83c77ad-9151-4fc1-e2a6-f2b9bb5f708d"
      },
      "execution_count": null,
      "outputs": [
        {
          "output_type": "stream",
          "name": "stdout",
          "text": [
            "782\n"
          ]
        }
      ]
    },
    {
      "cell_type": "code",
      "source": [
        "c=360\n",
        "d=80\n",
        "print(c/d)"
      ],
      "metadata": {
        "colab": {
          "base_uri": "https://localhost:8080/"
        },
        "id": "kstFLhBwswW4",
        "outputId": "4897b400-0a76-47f2-9e40-61e055a2c0db"
      },
      "execution_count": null,
      "outputs": [
        {
          "output_type": "stream",
          "name": "stdout",
          "text": [
            "4.5\n"
          ]
        }
      ]
    },
    {
      "cell_type": "code",
      "source": [
        "#floor\n",
        "print(c//d)"
      ],
      "metadata": {
        "colab": {
          "base_uri": "https://localhost:8080/"
        },
        "id": "ilU7GarPs7Hz",
        "outputId": "34d54f9f-973d-4f0d-9bd4-f912ce482bed"
      },
      "execution_count": null,
      "outputs": [
        {
          "output_type": "stream",
          "name": "stdout",
          "text": [
            "4\n"
          ]
        }
      ]
    },
    {
      "cell_type": "code",
      "source": [
        "#moulus\n",
        "print(c%d)"
      ],
      "metadata": {
        "colab": {
          "base_uri": "https://localhost:8080/"
        },
        "id": "6kC17vF6s9Le",
        "outputId": "71343b44-7c47-4ddf-fd0e-fa005baf12f0"
      },
      "execution_count": null,
      "outputs": [
        {
          "output_type": "stream",
          "name": "stdout",
          "text": [
            "40\n"
          ]
        }
      ]
    },
    {
      "cell_type": "code",
      "source": [
        "#Exponentiation\n",
        "print(2**10)"
      ],
      "metadata": {
        "colab": {
          "base_uri": "https://localhost:8080/"
        },
        "id": "HSQdJoAJs_AM",
        "outputId": "30d722bd-823e-433f-ccc2-10ca4a7a5047"
      },
      "execution_count": null,
      "outputs": [
        {
          "output_type": "stream",
          "name": "stdout",
          "text": [
            "1024\n"
          ]
        }
      ]
    },
    {
      "cell_type": "markdown",
      "source": [
        "# Comparison Operaor\n",
        "Equal x == y\n",
        "\n",
        "Not equal x != y\n",
        "\n",
        "Greater than x > y\n",
        "\n",
        "less than x < y\n",
        "\n",
        "Greater than or equal to x >= y\n",
        "\n",
        "less than or equal to x <= y"
      ],
      "metadata": {
        "id": "RqDmsf7JvDrG"
      }
    },
    {
      "cell_type": "code",
      "source": [
        "x=25\n",
        "y=10"
      ],
      "metadata": {
        "id": "vek51F8rtH7V"
      },
      "execution_count": null,
      "outputs": []
    },
    {
      "cell_type": "code",
      "source": [
        "print(x==y)"
      ],
      "metadata": {
        "colab": {
          "base_uri": "https://localhost:8080/"
        },
        "id": "2jmYWOXxveiB",
        "outputId": "ac53cb22-ae29-492f-e007-ff1433420f9f"
      },
      "execution_count": null,
      "outputs": [
        {
          "output_type": "stream",
          "name": "stdout",
          "text": [
            "False\n"
          ]
        }
      ]
    },
    {
      "cell_type": "code",
      "source": [
        "print(x>=y)"
      ],
      "metadata": {
        "colab": {
          "base_uri": "https://localhost:8080/"
        },
        "id": "WRDINSmcvhjZ",
        "outputId": "c88b74f9-1bd7-4431-ef3e-16216435f606"
      },
      "execution_count": null,
      "outputs": [
        {
          "output_type": "stream",
          "name": "stdout",
          "text": [
            "True\n"
          ]
        }
      ]
    },
    {
      "cell_type": "code",
      "source": [
        "print(x!=y)"
      ],
      "metadata": {
        "colab": {
          "base_uri": "https://localhost:8080/"
        },
        "id": "AcNoNGPavlXM",
        "outputId": "20ea39aa-e97d-4553-97df-1286309aa733"
      },
      "execution_count": null,
      "outputs": [
        {
          "output_type": "stream",
          "name": "stdout",
          "text": [
            "True\n"
          ]
        }
      ]
    },
    {
      "cell_type": "code",
      "source": [
        "print(type(x)==type(y))"
      ],
      "metadata": {
        "colab": {
          "base_uri": "https://localhost:8080/"
        },
        "id": "MsXdab6KvoiR",
        "outputId": "9104e667-a3d7-4408-fc19-b1e341b27f0d"
      },
      "execution_count": null,
      "outputs": [
        {
          "output_type": "stream",
          "name": "stdout",
          "text": [
            "True\n"
          ]
        }
      ]
    },
    {
      "cell_type": "code",
      "source": [
        "e=\"happy\"\n",
        "f=\"sad\""
      ],
      "metadata": {
        "id": "hf2VfB1kvsuJ"
      },
      "execution_count": null,
      "outputs": []
    },
    {
      "cell_type": "code",
      "source": [
        "print(type(e)==type(f))"
      ],
      "metadata": {
        "colab": {
          "base_uri": "https://localhost:8080/"
        },
        "id": "rco4MwM9v17x",
        "outputId": "71383d5b-88e2-4212-bd0a-fc3bab027b7e"
      },
      "execution_count": null,
      "outputs": [
        {
          "output_type": "stream",
          "name": "stdout",
          "text": [
            "True\n"
          ]
        }
      ]
    },
    {
      "cell_type": "code",
      "source": [
        "print(e==f)"
      ],
      "metadata": {
        "colab": {
          "base_uri": "https://localhost:8080/"
        },
        "id": "jbkq6I_9v5wc",
        "outputId": "9d080946-8fc3-4ac9-975a-43421b677e92"
      },
      "execution_count": null,
      "outputs": [
        {
          "output_type": "stream",
          "name": "stdout",
          "text": [
            "False\n"
          ]
        }
      ]
    },
    {
      "cell_type": "code",
      "source": [
        "g=\"Happy\""
      ],
      "metadata": {
        "id": "hUkfJnSZv8Vq"
      },
      "execution_count": null,
      "outputs": []
    },
    {
      "cell_type": "code",
      "source": [
        "print(e==g)"
      ],
      "metadata": {
        "colab": {
          "base_uri": "https://localhost:8080/"
        },
        "id": "PBdzgQIdwADH",
        "outputId": "d03f33ad-5d99-45ab-c7fc-5cff98da5b88"
      },
      "execution_count": null,
      "outputs": [
        {
          "output_type": "stream",
          "name": "stdout",
          "text": [
            "False\n"
          ]
        }
      ]
    },
    {
      "cell_type": "markdown",
      "source": [
        "#Logical Operators"
      ],
      "metadata": {
        "id": "N7BdNM5LxvNL"
      }
    },
    {
      "cell_type": "code",
      "source": [
        "True and True"
      ],
      "metadata": {
        "colab": {
          "base_uri": "https://localhost:8080/"
        },
        "id": "fIsRBHy6x1tD",
        "outputId": "3f6a7b38-c4af-4bd7-943a-6795cc01cf79"
      },
      "execution_count": null,
      "outputs": [
        {
          "output_type": "execute_result",
          "data": {
            "text/plain": [
              "True"
            ]
          },
          "metadata": {},
          "execution_count": 77
        }
      ]
    },
    {
      "cell_type": "code",
      "source": [
        "True and False"
      ],
      "metadata": {
        "colab": {
          "base_uri": "https://localhost:8080/"
        },
        "id": "eJdIHsZxwB2X",
        "outputId": "b38fd19c-09c0-481a-8161-dfbd462d639b"
      },
      "execution_count": null,
      "outputs": [
        {
          "output_type": "execute_result",
          "data": {
            "text/plain": [
              "False"
            ]
          },
          "metadata": {},
          "execution_count": 78
        }
      ]
    },
    {
      "cell_type": "code",
      "source": [
        "False and True"
      ],
      "metadata": {
        "colab": {
          "base_uri": "https://localhost:8080/"
        },
        "id": "s-x_6nwzx4Sv",
        "outputId": "70dc40a1-0088-424f-b57f-8a589a4dc302"
      },
      "execution_count": null,
      "outputs": [
        {
          "output_type": "execute_result",
          "data": {
            "text/plain": [
              "False"
            ]
          },
          "metadata": {},
          "execution_count": 79
        }
      ]
    },
    {
      "cell_type": "code",
      "source": [
        "False and False"
      ],
      "metadata": {
        "colab": {
          "base_uri": "https://localhost:8080/"
        },
        "id": "IQeDGCHHx79S",
        "outputId": "b99e9012-e1e4-4492-ab16-4e5cf8085b5b"
      },
      "execution_count": null,
      "outputs": [
        {
          "output_type": "execute_result",
          "data": {
            "text/plain": [
              "False"
            ]
          },
          "metadata": {},
          "execution_count": 80
        }
      ]
    },
    {
      "cell_type": "code",
      "source": [
        "True or True"
      ],
      "metadata": {
        "colab": {
          "base_uri": "https://localhost:8080/"
        },
        "id": "FCjTwVv0x9wa",
        "outputId": "5a74f024-5116-4b36-dc5b-52f730d0e215"
      },
      "execution_count": null,
      "outputs": [
        {
          "output_type": "execute_result",
          "data": {
            "text/plain": [
              "True"
            ]
          },
          "metadata": {},
          "execution_count": 81
        }
      ]
    },
    {
      "cell_type": "code",
      "source": [
        "True or False"
      ],
      "metadata": {
        "colab": {
          "base_uri": "https://localhost:8080/"
        },
        "id": "VmZKbvYQyCIb",
        "outputId": "6dc6cc44-0968-45a1-a982-60b2ba47742e"
      },
      "execution_count": null,
      "outputs": [
        {
          "output_type": "execute_result",
          "data": {
            "text/plain": [
              "True"
            ]
          },
          "metadata": {},
          "execution_count": 82
        }
      ]
    },
    {
      "cell_type": "code",
      "source": [
        "False or True"
      ],
      "metadata": {
        "colab": {
          "base_uri": "https://localhost:8080/"
        },
        "id": "4zRoaauOyD9w",
        "outputId": "ed596bee-0cba-4922-e613-fea4eb4797cd"
      },
      "execution_count": null,
      "outputs": [
        {
          "output_type": "execute_result",
          "data": {
            "text/plain": [
              "True"
            ]
          },
          "metadata": {},
          "execution_count": 83
        }
      ]
    },
    {
      "cell_type": "code",
      "source": [
        "False or False"
      ],
      "metadata": {
        "colab": {
          "base_uri": "https://localhost:8080/"
        },
        "id": "oyWEMYNyyF0T",
        "outputId": "519de34e-3dc2-48c7-8244-03cc156ccac0"
      },
      "execution_count": null,
      "outputs": [
        {
          "output_type": "execute_result",
          "data": {
            "text/plain": [
              "False"
            ]
          },
          "metadata": {},
          "execution_count": 84
        }
      ]
    },
    {
      "cell_type": "code",
      "source": [
        "not True"
      ],
      "metadata": {
        "colab": {
          "base_uri": "https://localhost:8080/"
        },
        "id": "NXJX37nuyHtK",
        "outputId": "ac296eaf-b46b-47d6-eb80-e8e75d1c1bfd"
      },
      "execution_count": null,
      "outputs": [
        {
          "output_type": "execute_result",
          "data": {
            "text/plain": [
              "False"
            ]
          },
          "metadata": {},
          "execution_count": 85
        }
      ]
    },
    {
      "cell_type": "code",
      "source": [
        "not False"
      ],
      "metadata": {
        "colab": {
          "base_uri": "https://localhost:8080/"
        },
        "id": "Dh_qqcuQyKHT",
        "outputId": "51913b6b-bbc5-4299-cf7d-71b4425aaae5"
      },
      "execution_count": null,
      "outputs": [
        {
          "output_type": "execute_result",
          "data": {
            "text/plain": [
              "True"
            ]
          },
          "metadata": {},
          "execution_count": 86
        }
      ]
    },
    {
      "cell_type": "code",
      "source": [
        "h=10\n",
        "i=20"
      ],
      "metadata": {
        "id": "9FkwC-C9yLvo"
      },
      "execution_count": null,
      "outputs": []
    },
    {
      "cell_type": "code",
      "source": [
        "h==i and h!=i"
      ],
      "metadata": {
        "colab": {
          "base_uri": "https://localhost:8080/"
        },
        "id": "7zFGERl6yQ6Y",
        "outputId": "78882193-50da-4d69-b48b-cbd549e98f17"
      },
      "execution_count": null,
      "outputs": [
        {
          "output_type": "execute_result",
          "data": {
            "text/plain": [
              "False"
            ]
          },
          "metadata": {},
          "execution_count": 88
        }
      ]
    },
    {
      "cell_type": "code",
      "source": [
        "print(_)"
      ],
      "metadata": {
        "colab": {
          "base_uri": "https://localhost:8080/"
        },
        "id": "-K4kSYxlyUsN",
        "outputId": "c16bef74-5ba5-4e25-fef2-075d07f53a79"
      },
      "execution_count": null,
      "outputs": [
        {
          "output_type": "stream",
          "name": "stdout",
          "text": [
            "False\n"
          ]
        }
      ]
    },
    {
      "cell_type": "markdown",
      "source": [
        "# Identity Operators\n",
        "\n",
        "1.   is\n",
        "2.   is not\n",
        "\n"
      ],
      "metadata": {
        "id": "XqkSMmTt0gWY"
      }
    },
    {
      "cell_type": "code",
      "source": [
        "x is y"
      ],
      "metadata": {
        "colab": {
          "base_uri": "https://localhost:8080/"
        },
        "id": "fAKRyNeK09YP",
        "outputId": "a428b06b-0727-4462-81ed-8ad0d80c4456"
      },
      "execution_count": null,
      "outputs": [
        {
          "output_type": "execute_result",
          "data": {
            "text/plain": [
              "False"
            ]
          },
          "metadata": {},
          "execution_count": 92
        }
      ]
    },
    {
      "cell_type": "code",
      "source": [
        "x is not y"
      ],
      "metadata": {
        "colab": {
          "base_uri": "https://localhost:8080/"
        },
        "id": "wAKziCDg1BPS",
        "outputId": "e1ad2f3e-7a5c-4629-8413-723c6040c752"
      },
      "execution_count": null,
      "outputs": [
        {
          "output_type": "execute_result",
          "data": {
            "text/plain": [
              "True"
            ]
          },
          "metadata": {},
          "execution_count": 93
        }
      ]
    },
    {
      "cell_type": "code",
      "source": [
        "type(x) is type(y)"
      ],
      "metadata": {
        "colab": {
          "base_uri": "https://localhost:8080/"
        },
        "id": "obCiOsPa1D5b",
        "outputId": "1df36f91-3448-42b7-f813-e898c96cf1e9"
      },
      "execution_count": null,
      "outputs": [
        {
          "output_type": "execute_result",
          "data": {
            "text/plain": [
              "True"
            ]
          },
          "metadata": {},
          "execution_count": 94
        }
      ]
    },
    {
      "cell_type": "markdown",
      "source": [
        "# Membership Operator\n",
        "\n",
        "1.   in\n",
        "2.   not in\n",
        "\n"
      ],
      "metadata": {
        "id": "A0QKd3iC0wN9"
      }
    },
    {
      "cell_type": "code",
      "source": [
        "\"d\" in name"
      ],
      "metadata": {
        "colab": {
          "base_uri": "https://localhost:8080/"
        },
        "id": "BMvOwhCRybAA",
        "outputId": "29838854-5592-4279-9b24-5f0184826c1f"
      },
      "execution_count": null,
      "outputs": [
        {
          "output_type": "execute_result",
          "data": {
            "text/plain": [
              "True"
            ]
          },
          "metadata": {},
          "execution_count": 96
        }
      ]
    },
    {
      "cell_type": "code",
      "source": [
        "'\"' in name"
      ],
      "metadata": {
        "colab": {
          "base_uri": "https://localhost:8080/"
        },
        "id": "nJFi0nKi1YgF",
        "outputId": "d999c1a9-3a66-4dd8-91b4-11d12d578da0"
      },
      "execution_count": null,
      "outputs": [
        {
          "output_type": "execute_result",
          "data": {
            "text/plain": [
              "True"
            ]
          },
          "metadata": {},
          "execution_count": 99
        }
      ]
    },
    {
      "cell_type": "markdown",
      "source": [
        "# Slicing"
      ],
      "metadata": {
        "id": "GGS05fW3Na5Y"
      }
    },
    {
      "cell_type": "code",
      "source": [
        "L=[\"Apple\",\"Banana\",\"Cherry\",\"Berry\",\"orange\"]"
      ],
      "metadata": {
        "id": "KXvWyab01m84"
      },
      "execution_count": null,
      "outputs": []
    },
    {
      "cell_type": "code",
      "source": [
        "L[0]"
      ],
      "metadata": {
        "colab": {
          "base_uri": "https://localhost:8080/",
          "height": 35
        },
        "id": "m-fW3OOJMjTN",
        "outputId": "4be62ed5-9c0f-4d70-a644-0414dd32ef9a"
      },
      "execution_count": null,
      "outputs": [
        {
          "output_type": "execute_result",
          "data": {
            "text/plain": [
              "'Apple'"
            ],
            "application/vnd.google.colaboratory.intrinsic+json": {
              "type": "string"
            }
          },
          "metadata": {},
          "execution_count": 6
        }
      ]
    },
    {
      "cell_type": "code",
      "source": [
        "L[0:^]"
      ],
      "metadata": {
        "colab": {
          "base_uri": "https://localhost:8080/"
        },
        "id": "8DlfXOh5Mlhn",
        "outputId": "47d90f2a-0ec3-48fa-be5b-84e7fe1f4b4a"
      },
      "execution_count": null,
      "outputs": [
        {
          "output_type": "execute_result",
          "data": {
            "text/plain": [
              "['Apple', 'Banana', 'Cherry', 'Berry', 'orange']"
            ]
          },
          "metadata": {},
          "execution_count": 12
        }
      ]
    },
    {
      "cell_type": "code",
      "source": [
        "L[-1]"
      ],
      "metadata": {
        "colab": {
          "base_uri": "https://localhost:8080/",
          "height": 35
        },
        "id": "vEjq7I-lMura",
        "outputId": "7adab102-6580-4593-f5fc-18f0a5f62220"
      },
      "execution_count": null,
      "outputs": [
        {
          "output_type": "execute_result",
          "data": {
            "text/plain": [
              "'orange'"
            ],
            "application/vnd.google.colaboratory.intrinsic+json": {
              "type": "string"
            }
          },
          "metadata": {},
          "execution_count": 16
        }
      ]
    },
    {
      "cell_type": "markdown",
      "source": [
        "# Append, Extend, Insert"
      ],
      "metadata": {
        "id": "srnk9aCZNfzj"
      }
    },
    {
      "cell_type": "markdown",
      "source": [
        "##Append\n",
        "it will only take one element. so either put one element listname.append(value)\n",
        "\n",
        "or\n",
        "\n",
        "give a list of vales as a single element listname.append([value1, value2, ....])"
      ],
      "metadata": {
        "id": "4xVBAU8RsqRY"
      }
    },
    {
      "cell_type": "code",
      "source": [
        "L2=['a','b','c','d']"
      ],
      "metadata": {
        "id": "fddRsmcqNiSy"
      },
      "execution_count": null,
      "outputs": []
    },
    {
      "cell_type": "code",
      "source": [],
      "metadata": {
        "id": "wI-6ro4nNrLn"
      },
      "execution_count": null,
      "outputs": []
    },
    {
      "cell_type": "code",
      "source": [
        "L2.append('e')"
      ],
      "metadata": {
        "id": "oa_bg5OuuG05"
      },
      "execution_count": null,
      "outputs": []
    },
    {
      "cell_type": "code",
      "source": [
        "L2"
      ],
      "metadata": {
        "colab": {
          "base_uri": "https://localhost:8080/"
        },
        "id": "bd6MLWhsuLB_",
        "outputId": "c7b6103e-f04f-4b5e-82f6-75c0df78c7a9"
      },
      "execution_count": null,
      "outputs": [
        {
          "output_type": "execute_result",
          "data": {
            "text/plain": [
              "['a', 'b', 'c', 'd']"
            ]
          },
          "metadata": {},
          "execution_count": 21
        }
      ]
    },
    {
      "cell_type": "code",
      "source": [
        "L2[3]"
      ],
      "metadata": {
        "colab": {
          "base_uri": "https://localhost:8080/",
          "height": 35
        },
        "id": "YV_2uVhtuSaJ",
        "outputId": "a52a2a4c-6871-4b42-e7ba-118e9eb2e473"
      },
      "execution_count": null,
      "outputs": [
        {
          "output_type": "execute_result",
          "data": {
            "text/plain": [
              "'d'"
            ],
            "application/vnd.google.colaboratory.intrinsic+json": {
              "type": "string"
            }
          },
          "metadata": {},
          "execution_count": 13
        }
      ]
    },
    {
      "cell_type": "code",
      "source": [
        "L2.append(['f','g','h']) # this list will be added as a single element"
      ],
      "metadata": {
        "id": "PISQYTpSuWW9"
      },
      "execution_count": null,
      "outputs": []
    },
    {
      "cell_type": "code",
      "source": [
        "L2"
      ],
      "metadata": {
        "colab": {
          "base_uri": "https://localhost:8080/"
        },
        "id": "s0kkbrxOubPj",
        "outputId": "0ba65cba-e424-4440-8397-6fabc9a60927"
      },
      "execution_count": null,
      "outputs": [
        {
          "output_type": "execute_result",
          "data": {
            "text/plain": [
              "['a', 'b', 'c', 'd', ['f', 'g', 'h']]"
            ]
          },
          "metadata": {},
          "execution_count": 23
        }
      ]
    },
    {
      "cell_type": "code",
      "source": [
        "L2[5]"
      ],
      "metadata": {
        "colab": {
          "base_uri": "https://localhost:8080/"
        },
        "id": "IQ6FcR_guhgK",
        "outputId": "94cb2878-76d1-4041-8984-79b559d5f861"
      },
      "execution_count": null,
      "outputs": [
        {
          "output_type": "execute_result",
          "data": {
            "text/plain": [
              "['f', 'g', 'h']"
            ]
          },
          "metadata": {},
          "execution_count": 35
        }
      ]
    },
    {
      "cell_type": "code",
      "source": [
        "L2[5][1]"
      ],
      "metadata": {
        "colab": {
          "base_uri": "https://localhost:8080/",
          "height": 35
        },
        "id": "6Z4HjgHRulUs",
        "outputId": "7756056d-f25d-4ce8-ba56-682ce73218c7"
      },
      "execution_count": null,
      "outputs": [
        {
          "output_type": "execute_result",
          "data": {
            "text/plain": [
              "'g'"
            ],
            "application/vnd.google.colaboratory.intrinsic+json": {
              "type": "string"
            }
          },
          "metadata": {},
          "execution_count": 36
        }
      ]
    },
    {
      "cell_type": "markdown",
      "source": [
        "##Extend\n",
        " it will take one or more values listname.extend()"
      ],
      "metadata": {
        "id": "A9gxJzfMtLJv"
      }
    },
    {
      "cell_type": "code",
      "source": [
        "L3 = ['a','b','c','d']"
      ],
      "metadata": {
        "id": "NdXdbbZwu6xv"
      },
      "execution_count": null,
      "outputs": []
    },
    {
      "cell_type": "code",
      "source": [
        "L3.extend('happy') #each letter of the word is added as different element"
      ],
      "metadata": {
        "id": "hQG40-4TOKiZ"
      },
      "execution_count": null,
      "outputs": []
    },
    {
      "cell_type": "code",
      "source": [
        "L3"
      ],
      "metadata": {
        "colab": {
          "base_uri": "https://localhost:8080/"
        },
        "id": "M27Lc4lkOPzk",
        "outputId": "0b98a243-f18d-4af6-febc-08a1e64f2e84"
      },
      "execution_count": null,
      "outputs": [
        {
          "output_type": "execute_result",
          "data": {
            "text/plain": [
              "['a', 'b', 'c', 'd', 'h', 'a', 'p', 'p', 'y']"
            ]
          },
          "metadata": {},
          "execution_count": 46
        }
      ]
    },
    {
      "cell_type": "code",
      "source": [
        "L3.extend([happy,sad])"
      ],
      "metadata": {
        "colab": {
          "base_uri": "https://localhost:8080/",
          "height": 141
        },
        "id": "iHB1s9L2vOGq",
        "outputId": "ad7d948c-f322-41c3-934e-72e523fdaecc"
      },
      "execution_count": null,
      "outputs": [
        {
          "output_type": "error",
          "ename": "NameError",
          "evalue": "name 'happy' is not defined",
          "traceback": [
            "\u001b[0;31m---------------------------------------------------------------------------\u001b[0m",
            "\u001b[0;31mNameError\u001b[0m                                 Traceback (most recent call last)",
            "\u001b[0;32m<ipython-input-47-5c0de0ac3536>\u001b[0m in \u001b[0;36m<cell line: 1>\u001b[0;34m()\u001b[0m\n\u001b[0;32m----> 1\u001b[0;31m \u001b[0mL3\u001b[0m\u001b[0;34m.\u001b[0m\u001b[0mextend\u001b[0m\u001b[0;34m(\u001b[0m\u001b[0;34m[\u001b[0m\u001b[0mhappy\u001b[0m\u001b[0;34m,\u001b[0m\u001b[0msad\u001b[0m\u001b[0;34m]\u001b[0m\u001b[0;34m)\u001b[0m\u001b[0;34m\u001b[0m\u001b[0;34m\u001b[0m\u001b[0m\n\u001b[0m",
            "\u001b[0;31mNameError\u001b[0m: name 'happy' is not defined"
          ]
        }
      ]
    },
    {
      "cell_type": "code",
      "source": [
        "L3.extend([\"happy\",\"sad\"])\n",
        "# now the words are insterted seperately\n",
        "# not the letters"
      ],
      "metadata": {
        "id": "1EMno_4svfKz"
      },
      "execution_count": null,
      "outputs": []
    },
    {
      "cell_type": "code",
      "source": [
        "L3"
      ],
      "metadata": {
        "colab": {
          "base_uri": "https://localhost:8080/"
        },
        "id": "IXdFc6H7vmFI",
        "outputId": "aec306d8-94a0-4da8-8a1a-2666f21a96a4"
      },
      "execution_count": null,
      "outputs": [
        {
          "output_type": "execute_result",
          "data": {
            "text/plain": [
              "['a', 'b', 'c', 'd', 'h', 'a', 'p', 'p', 'y', 'happy', 'sad', 'happy', 'sad']"
            ]
          },
          "metadata": {},
          "execution_count": 51
        }
      ]
    },
    {
      "cell_type": "markdown",
      "source": [
        "##Insert\n",
        "it will recieve two things\n",
        "\n",
        "1.   the index number the value should be added\n",
        "2.   The value that is to be added at the mentioned index\n",
        "\n",
        "listname.insert(indexnumber,value)\n",
        "\n"
      ],
      "metadata": {
        "id": "9B-zOL6JwCYT"
      }
    },
    {
      "cell_type": "code",
      "source": [
        "L4 = ['a','b','c','d']"
      ],
      "metadata": {
        "id": "F_8PsAPXOhRu"
      },
      "execution_count": null,
      "outputs": []
    },
    {
      "cell_type": "code",
      "source": [
        "L4.insert(1,\"B\")"
      ],
      "metadata": {
        "id": "WkenHB7DO7Y4"
      },
      "execution_count": null,
      "outputs": []
    },
    {
      "cell_type": "code",
      "source": [
        "L4"
      ],
      "metadata": {
        "colab": {
          "base_uri": "https://localhost:8080/"
        },
        "id": "u9AHcVQPwvYS",
        "outputId": "3053440d-f1e1-4f4d-a78f-d3757b2d96ce"
      },
      "execution_count": null,
      "outputs": [
        {
          "output_type": "execute_result",
          "data": {
            "text/plain": [
              "['a', 'B', 'b', 'c', 'd']"
            ]
          },
          "metadata": {},
          "execution_count": 55
        }
      ]
    },
    {
      "cell_type": "code",
      "source": [
        "L4.insert(3,\"D\")"
      ],
      "metadata": {
        "id": "9ccnywq_wynM"
      },
      "execution_count": null,
      "outputs": []
    },
    {
      "cell_type": "code",
      "source": [
        "L4"
      ],
      "metadata": {
        "colab": {
          "base_uri": "https://localhost:8080/"
        },
        "id": "zORDtfQHxAiQ",
        "outputId": "038e8582-4015-46ac-98a5-60be1d1335d0"
      },
      "execution_count": null,
      "outputs": [
        {
          "output_type": "execute_result",
          "data": {
            "text/plain": [
              "['a', 'B', 'b', 'D', 'E', 'c', 'd']"
            ]
          },
          "metadata": {},
          "execution_count": 60
        }
      ]
    },
    {
      "cell_type": "markdown",
      "source": [
        "#Pop, Remove, Delete\n"
      ],
      "metadata": {
        "id": "IXizBT9QPQjC"
      }
    },
    {
      "cell_type": "markdown",
      "source": [
        "##POP\n",
        "Pop can be used in two ways\n",
        "\n",
        "1.   listname.pop() this will pop out the last element(the element residing at the largest index)\n",
        "2.   listname.pop(indexnumber) This will pop out the value at the mentioned index\n",
        "3.   removeditem = listname.pop() this will remove the last number from the list and store it the varioable. also the desired index number can be mentioned in the brackets, so that specific value will be removed from the list and store it in the variable\n",
        "\n",
        "\n",
        "\n",
        "\n"
      ],
      "metadata": {
        "id": "RCywgK5lxXAj"
      }
    },
    {
      "cell_type": "code",
      "source": [
        "L5=['a','b','c','d']\n",
        "L5.pop(2) #This will delete the value at 3rd index"
      ],
      "metadata": {
        "colab": {
          "base_uri": "https://localhost:8080/",
          "height": 35
        },
        "id": "EBpqvgG7PUjz",
        "outputId": "02bf9d42-2260-4226-d50a-eed8d71a90a9"
      },
      "execution_count": null,
      "outputs": [
        {
          "output_type": "execute_result",
          "data": {
            "text/plain": [
              "'c'"
            ],
            "application/vnd.google.colaboratory.intrinsic+json": {
              "type": "string"
            }
          },
          "metadata": {},
          "execution_count": 66
        }
      ]
    },
    {
      "cell_type": "code",
      "source": [
        "L5"
      ],
      "metadata": {
        "colab": {
          "base_uri": "https://localhost:8080/"
        },
        "id": "FnueUYEnPhb9",
        "outputId": "363928ee-a748-45b4-9b36-fc94fa9f926c"
      },
      "execution_count": null,
      "outputs": [
        {
          "output_type": "execute_result",
          "data": {
            "text/plain": [
              "['a', 'b', 'd']"
            ]
          },
          "metadata": {},
          "execution_count": 67
        }
      ]
    },
    {
      "cell_type": "code",
      "source": [
        "L5=['a','b','c','d']\n",
        "L5.pop() #This will delete last value"
      ],
      "metadata": {
        "colab": {
          "base_uri": "https://localhost:8080/",
          "height": 35
        },
        "id": "4WzhAMUqPib6",
        "outputId": "8901507c-740a-49ee-8d55-9d06deaabf82"
      },
      "execution_count": null,
      "outputs": [
        {
          "output_type": "execute_result",
          "data": {
            "text/plain": [
              "'d'"
            ],
            "application/vnd.google.colaboratory.intrinsic+json": {
              "type": "string"
            }
          },
          "metadata": {},
          "execution_count": 68
        }
      ]
    },
    {
      "cell_type": "code",
      "source": [
        "L5"
      ],
      "metadata": {
        "colab": {
          "base_uri": "https://localhost:8080/"
        },
        "id": "58lyo5vWPm2M",
        "outputId": "1dfce040-0902-4932-80a1-fe7c5d1a6e27"
      },
      "execution_count": null,
      "outputs": [
        {
          "output_type": "execute_result",
          "data": {
            "text/plain": [
              "['a', 'b', 'c']"
            ]
          },
          "metadata": {},
          "execution_count": 70
        }
      ]
    },
    {
      "cell_type": "markdown",
      "source": [
        "##Remove\n",
        "The remove() method is called on a list and takes a single argument, which is the value to be removed.\n",
        "\n",
        "syntax: list.remove(value)\n",
        "\n",
        "If the specified value exists in the list, the first occurrence of that value is removed.\n",
        "\n",
        "\n",
        "If the value is not found in the list, it raises a ValueError.\n",
        "\n",
        "\n",
        "The list is modified in-place, meaning the original list is changed.\n",
        "\n",
        "If you need to remove all occurrences of a value, consider using a loop or list comprehension."
      ],
      "metadata": {
        "id": "ZLP8H0Pt0NdO"
      }
    },
    {
      "cell_type": "code",
      "source": [
        "L6=[\"car\",\"bike\",\"truck\",\"bus\",\"plane\"]"
      ],
      "metadata": {
        "id": "zT3tFo7lPnit"
      },
      "execution_count": null,
      "outputs": []
    },
    {
      "cell_type": "code",
      "source": [
        "L6.remove(\"bike\")"
      ],
      "metadata": {
        "id": "NlCdYrSLQhGZ"
      },
      "execution_count": null,
      "outputs": []
    },
    {
      "cell_type": "code",
      "source": [
        "L6"
      ],
      "metadata": {
        "colab": {
          "base_uri": "https://localhost:8080/"
        },
        "id": "exclmMDeQkkW",
        "outputId": "9cb109cc-f2b8-4808-b1c4-3f1178c7c3f2"
      },
      "execution_count": null,
      "outputs": [
        {
          "output_type": "execute_result",
          "data": {
            "text/plain": [
              "['car', 'truck', 'bus', 'plane']"
            ]
          },
          "metadata": {},
          "execution_count": 75
        }
      ]
    },
    {
      "cell_type": "code",
      "source": [
        "my_list = [10, 20, 30, 20, 40]\n",
        "my_list.remove(20)  # Removes the first occurrence of 20\n",
        "print(my_list)  # Output: [10, 30, 20, 40]"
      ],
      "metadata": {
        "colab": {
          "base_uri": "https://localhost:8080/"
        },
        "id": "NMO3t7nPQlmI",
        "outputId": "fb5cfcce-6d42-4fbf-e768-aacd57c00538"
      },
      "execution_count": null,
      "outputs": [
        {
          "output_type": "stream",
          "name": "stdout",
          "text": [
            "[10, 30, 20, 40]\n"
          ]
        }
      ]
    },
    {
      "cell_type": "markdown",
      "source": [
        "## Delete (del)\n",
        "To remove an item from a list, use del followed by the list name and the index of the item you want to delete.\n",
        "\n",
        "\n",
        "my_list = [1, 2, 3, 4]\n",
        "\n",
        "del my_list[2]  # Removes the element at index 2 (value 3)\n",
        "\n",
        "\n",
        "You can also delete a slice (a range of elements) from a list.\n",
        "\n",
        "my_list = [1, 2, 3, 4, 5]\n",
        "\n",
        "del my_list[1:3]  # Removes elements at indices 1 and 2\n",
        "\n",
        "\n",
        "To delete an entire list or any other object, use del followed by the object name.\n",
        "\n",
        "my_list = [1, 2, 3]\n",
        "\n",
        "del my_list  # Deletes the entire list"
      ],
      "metadata": {
        "id": "eg9lpyPZ1KNI"
      }
    },
    {
      "cell_type": "code",
      "source": [
        "L7=[\"car\",\"bike\",\"truck\",\"bus\",\"plane\"]\n",
        "del L7[1]\n",
        "L7"
      ],
      "metadata": {
        "id": "XIcif-I9Qu-j",
        "colab": {
          "base_uri": "https://localhost:8080/"
        },
        "outputId": "a252f3cc-5759-4a92-c9f7-2db2c45e8f2c"
      },
      "execution_count": null,
      "outputs": [
        {
          "output_type": "execute_result",
          "data": {
            "text/plain": [
              "['car', 'truck', 'bus', 'plane']"
            ]
          },
          "metadata": {},
          "execution_count": 82
        }
      ]
    },
    {
      "cell_type": "code",
      "source": [
        "L7=[\"car\",\"bike\",\"truck\",\"bus\",\"plane\"]\n",
        "del L7[1:3] # Removes elements at indices 1 and 2\n",
        "L7"
      ],
      "metadata": {
        "colab": {
          "base_uri": "https://localhost:8080/"
        },
        "id": "JfpOWkXJ2Lnh",
        "outputId": "10374fbd-df73-469a-e8b8-cdf119cc89b0"
      },
      "execution_count": null,
      "outputs": [
        {
          "output_type": "execute_result",
          "data": {
            "text/plain": [
              "['car', 'bus', 'plane']"
            ]
          },
          "metadata": {},
          "execution_count": 81
        }
      ]
    },
    {
      "cell_type": "code",
      "source": [
        "L7=[\"car\",\"bike\",\"truck\",\"bus\",\"plane\"]\n",
        "del L7 # Deletes the entire list\n",
        "L7"
      ],
      "metadata": {
        "colab": {
          "base_uri": "https://localhost:8080/",
          "height": 176
        },
        "id": "EPNrS22B2xfv",
        "outputId": "84dbe241-65d7-41da-ea4f-e799a82f1484"
      },
      "execution_count": null,
      "outputs": [
        {
          "output_type": "error",
          "ename": "NameError",
          "evalue": "name 'L7' is not defined",
          "traceback": [
            "\u001b[0;31m---------------------------------------------------------------------------\u001b[0m",
            "\u001b[0;31mNameError\u001b[0m                                 Traceback (most recent call last)",
            "\u001b[0;32m<ipython-input-84-af1efc34de86>\u001b[0m in \u001b[0;36m<cell line: 3>\u001b[0;34m()\u001b[0m\n\u001b[1;32m      1\u001b[0m \u001b[0mL7\u001b[0m\u001b[0;34m=\u001b[0m\u001b[0;34m[\u001b[0m\u001b[0;34m\"car\"\u001b[0m\u001b[0;34m,\u001b[0m\u001b[0;34m\"bike\"\u001b[0m\u001b[0;34m,\u001b[0m\u001b[0;34m\"truck\"\u001b[0m\u001b[0;34m,\u001b[0m\u001b[0;34m\"bus\"\u001b[0m\u001b[0;34m,\u001b[0m\u001b[0;34m\"plane\"\u001b[0m\u001b[0;34m]\u001b[0m\u001b[0;34m\u001b[0m\u001b[0;34m\u001b[0m\u001b[0m\n\u001b[1;32m      2\u001b[0m \u001b[0;32mdel\u001b[0m \u001b[0mL7\u001b[0m \u001b[0;31m# Deletes the entire list\u001b[0m\u001b[0;34m\u001b[0m\u001b[0;34m\u001b[0m\u001b[0m\n\u001b[0;32m----> 3\u001b[0;31m \u001b[0mL7\u001b[0m\u001b[0;34m\u001b[0m\u001b[0;34m\u001b[0m\u001b[0m\n\u001b[0m",
            "\u001b[0;31mNameError\u001b[0m: name 'L7' is not defined"
          ]
        }
      ]
    },
    {
      "cell_type": "markdown",
      "source": [
        "# Count"
      ],
      "metadata": {
        "id": "LitiSj6RSpmV"
      }
    },
    {
      "cell_type": "code",
      "source": [
        "# To check the no.of times the element is appered in the list\n",
        "L8=[\"ironman\",\"spiderman\",\"ironman\",\"Black\",\"cap\"]"
      ],
      "metadata": {
        "id": "qyYhfamvSUdp"
      },
      "execution_count": null,
      "outputs": []
    },
    {
      "cell_type": "code",
      "source": [
        "L8.count(\"ironman\")"
      ],
      "metadata": {
        "colab": {
          "base_uri": "https://localhost:8080/"
        },
        "id": "8l4Q9Bt0S12j",
        "outputId": "02ff865c-6741-42ba-c429-19fd4f40f469"
      },
      "execution_count": null,
      "outputs": [
        {
          "output_type": "execute_result",
          "data": {
            "text/plain": [
              "2"
            ]
          },
          "metadata": {},
          "execution_count": 87
        }
      ]
    },
    {
      "cell_type": "code",
      "source": [
        "L9=[37, 25, 48, 33, 30, 44, 41, 39, 47, 29, 38, 49, 32, 43, 31, 40, 26, 50, 34, 45, 28, 36, 46, 27, 35, 37, 25, 48, 33, 30, 44, 41, 39, 47, 29, 38, 49, 32, 43, 31, 40, 26, 50, 34, 45, 28, 36, 46, 27, 35,]"
      ],
      "metadata": {
        "id": "fbaEEaMq4Wa9"
      },
      "execution_count": null,
      "outputs": []
    },
    {
      "cell_type": "code",
      "source": [
        "len(L9)"
      ],
      "metadata": {
        "colab": {
          "base_uri": "https://localhost:8080/"
        },
        "id": "l8AnVYgO4fDJ",
        "outputId": "d54467ae-5592-4580-be06-d65cd42fa7fb"
      },
      "execution_count": null,
      "outputs": [
        {
          "output_type": "execute_result",
          "data": {
            "text/plain": [
              "50"
            ]
          },
          "metadata": {},
          "execution_count": 89
        }
      ]
    },
    {
      "cell_type": "code",
      "source": [
        "L9.count(25)"
      ],
      "metadata": {
        "colab": {
          "base_uri": "https://localhost:8080/"
        },
        "id": "J2zuMb_o4kJE",
        "outputId": "d33003e9-a391-4683-c14d-5bb3119c0492"
      },
      "execution_count": null,
      "outputs": [
        {
          "output_type": "execute_result",
          "data": {
            "text/plain": [
              "2"
            ]
          },
          "metadata": {},
          "execution_count": 90
        }
      ]
    },
    {
      "cell_type": "markdown",
      "source": [
        "#Minimum and maximum"
      ],
      "metadata": {
        "id": "kkazegA1Till"
      }
    },
    {
      "cell_type": "code",
      "source": [
        "L10=[-56, 78, -3, 42, 91, -17, 64, -89, 27, -70, 13, 55, -98, 5, 37, -81, 49, -24, 88, -46, 19, 73, -33, 67, -12, 84, -62, 31, -93, 59, -7, 76, -39, 22, 94, -52, 43, -85, 10, 52, -29, 70, -2, 34, -78, 61, -15, 82, -67, 40, -92, 58, -4, 75, -36, 21, 93, -51, 44, -84, 9, 51, -28, 69, -1, 33, -77, 62, -14, 83, -66, 41, -91, 57, -5, 74, -35, 20, 92, -50, 45, -83, 8, 50, -27, 68, -11, 32, -76, 63, -13, 81, -65, 39, -90, 56, -6, 72, -38, 23, 95, -53, 46, -82, 11, 53, -26, 71, -16, 35, -80, 60, -8, 77, -37, 24, 96, -54, 47, -79, 12, 54, -25, 72]"
      ],
      "metadata": {
        "id": "OQN5fFY8TeaI"
      },
      "execution_count": null,
      "outputs": []
    },
    {
      "cell_type": "code",
      "source": [
        "max(L10)"
      ],
      "metadata": {
        "colab": {
          "base_uri": "https://localhost:8080/"
        },
        "id": "-ZtP1ITgUKfs",
        "outputId": "34fafb6f-10d5-4f3f-98c0-4882af3506b8"
      },
      "execution_count": null,
      "outputs": [
        {
          "output_type": "execute_result",
          "data": {
            "text/plain": [
              "96"
            ]
          },
          "metadata": {},
          "execution_count": 100
        }
      ]
    },
    {
      "cell_type": "code",
      "source": [
        "min(L10)"
      ],
      "metadata": {
        "colab": {
          "base_uri": "https://localhost:8080/"
        },
        "id": "IP0fwhk5UQYE",
        "outputId": "1454e17b-7f34-4677-befb-26ac2f88a792"
      },
      "execution_count": null,
      "outputs": [
        {
          "output_type": "execute_result",
          "data": {
            "text/plain": [
              "-98"
            ]
          },
          "metadata": {},
          "execution_count": 101
        }
      ]
    },
    {
      "cell_type": "code",
      "source": [
        "len(L10[9:17])"
      ],
      "metadata": {
        "colab": {
          "base_uri": "https://localhost:8080/"
        },
        "id": "8PZw0K_66U5K",
        "outputId": "66461809-d981-4e5d-e4ce-b3cc497da074"
      },
      "execution_count": null,
      "outputs": [
        {
          "output_type": "execute_result",
          "data": {
            "text/plain": [
              "8"
            ]
          },
          "metadata": {},
          "execution_count": 104
        }
      ]
    },
    {
      "cell_type": "code",
      "source": [
        "max(L10[9:17])"
      ],
      "metadata": {
        "colab": {
          "base_uri": "https://localhost:8080/"
        },
        "id": "JHVw4zwo6BW5",
        "outputId": "a5836322-640d-4d4b-83f0-ddfe14deca08"
      },
      "execution_count": null,
      "outputs": [
        {
          "output_type": "execute_result",
          "data": {
            "text/plain": [
              "55"
            ]
          },
          "metadata": {},
          "execution_count": 102
        }
      ]
    },
    {
      "cell_type": "markdown",
      "source": [
        "#Sum\n",
        "syntax:  sum(listname)\n",
        "\n",
        "gives the sum of values in the list"
      ],
      "metadata": {
        "id": "gS3FRu5z6itl"
      }
    },
    {
      "cell_type": "code",
      "source": [
        "sum(L10)"
      ],
      "metadata": {
        "colab": {
          "base_uri": "https://localhost:8080/"
        },
        "id": "iHY6AVhCUR0U",
        "outputId": "39d3e834-f6cf-4f62-f309-12e3611dcb3c"
      },
      "execution_count": null,
      "outputs": [
        {
          "output_type": "execute_result",
          "data": {
            "text/plain": [
              "1077"
            ]
          },
          "metadata": {},
          "execution_count": 97
        }
      ]
    },
    {
      "cell_type": "code",
      "source": [
        "sum(L10[9:17])"
      ],
      "metadata": {
        "colab": {
          "base_uri": "https://localhost:8080/"
        },
        "id": "CCU1Fglt68wN",
        "outputId": "d07f2b71-2498-4d89-d89f-433a144c65d4"
      },
      "execution_count": null,
      "outputs": [
        {
          "output_type": "execute_result",
          "data": {
            "text/plain": [
              "-90"
            ]
          },
          "metadata": {},
          "execution_count": 105
        }
      ]
    },
    {
      "cell_type": "markdown",
      "source": [
        "#Sort\n",
        "\n",
        "\n",
        "1.   Ascending order\n",
        "2.   Decending order\n",
        "3.   Reverse\n",
        "\n",
        "\n",
        "\n",
        "\n"
      ],
      "metadata": {
        "id": "KSvt2iHz6x_t"
      }
    },
    {
      "cell_type": "code",
      "source": [
        "L11=[25, 41, 0, 14, -26, 54, 11, 12, 72, -121]\n",
        "L11.sort() # this will sort in the asending order\n",
        "L11"
      ],
      "metadata": {
        "id": "LotYDgkgUTYW",
        "colab": {
          "base_uri": "https://localhost:8080/"
        },
        "outputId": "51ae7310-76e6-410c-c0b9-81ae800aa715"
      },
      "execution_count": null,
      "outputs": [
        {
          "output_type": "execute_result",
          "data": {
            "text/plain": [
              "[-121, -26, 0, 11, 12, 14, 25, 41, 54, 72]"
            ]
          },
          "metadata": {},
          "execution_count": 109
        }
      ]
    },
    {
      "cell_type": "code",
      "source": [
        "L11=[25, 41, 0, 14, -26, 54, 11, 12, 72, -121]\n",
        "L11.sort(reverse=True) #This wiil sort in desending order\n",
        "L11"
      ],
      "metadata": {
        "colab": {
          "base_uri": "https://localhost:8080/"
        },
        "id": "L-cKIdfZVVj5",
        "outputId": "c41d2e6e-6231-4468-cad3-7e30d3c11791"
      },
      "execution_count": null,
      "outputs": [
        {
          "output_type": "execute_result",
          "data": {
            "text/plain": [
              "[72, 54, 41, 25, 14, 12, 11, 0, -26, -121]"
            ]
          },
          "metadata": {},
          "execution_count": 111
        }
      ]
    },
    {
      "cell_type": "code",
      "source": [
        "L11=[25, 41, 0, 14, -26, 54, 11, 12, 72, -121]\n",
        "L11.sort(reverse = False) #This wiil sort in ascending order\n",
        "L11"
      ],
      "metadata": {
        "colab": {
          "base_uri": "https://localhost:8080/"
        },
        "id": "ueDRuK7s8GNG",
        "outputId": "fe5e47df-cf5e-479e-8403-8d890d9c51e7"
      },
      "execution_count": null,
      "outputs": [
        {
          "output_type": "execute_result",
          "data": {
            "text/plain": [
              "[-121, -26, 0, 11, 12, 14, 25, 41, 54, 72]"
            ]
          },
          "metadata": {},
          "execution_count": 112
        }
      ]
    },
    {
      "cell_type": "code",
      "source": [
        "L11=[25, 41, 0, 14, -26, 54, 11, 12, 72, -121]\n",
        "L11.reverse() #This will just reverse the list\n",
        "L11"
      ],
      "metadata": {
        "id": "k5oocRwqVdfm",
        "colab": {
          "base_uri": "https://localhost:8080/"
        },
        "outputId": "fccc93d8-1bf9-4583-84d7-7004d53349f9"
      },
      "execution_count": null,
      "outputs": [
        {
          "output_type": "execute_result",
          "data": {
            "text/plain": [
              "[-121, 72, 12, 11, 54, -26, 14, 0, 41, 25]"
            ]
          },
          "metadata": {},
          "execution_count": 26
        }
      ]
    },
    {
      "cell_type": "markdown",
      "source": [
        "# String"
      ],
      "metadata": {
        "id": "T97TAq_tQCiz"
      }
    },
    {
      "cell_type": "code",
      "source": [
        "a = \"Men love women,\"\n",
        "b = \" but even more than that,\"\n",
        "c = \" men love cars\""
      ],
      "metadata": {
        "id": "teS99j8OQB83"
      },
      "execution_count": null,
      "outputs": []
    },
    {
      "cell_type": "code",
      "source": [
        "print(len(a))"
      ],
      "metadata": {
        "colab": {
          "base_uri": "https://localhost:8080/"
        },
        "id": "4zVb_G2xQWcq",
        "outputId": "47adb8d9-ac12-4aed-97cf-5f18dd38bbeb"
      },
      "execution_count": null,
      "outputs": [
        {
          "output_type": "stream",
          "name": "stdout",
          "text": [
            "15\n"
          ]
        }
      ]
    },
    {
      "cell_type": "code",
      "source": [
        "print(a.count(\"men\"))"
      ],
      "metadata": {
        "colab": {
          "base_uri": "https://localhost:8080/"
        },
        "id": "nT8uLMT-QZHR",
        "outputId": "fd7a2565-a65e-4248-dd37-086bbf8cfa5e"
      },
      "execution_count": null,
      "outputs": [
        {
          "output_type": "stream",
          "name": "stdout",
          "text": [
            "1\n"
          ]
        }
      ]
    },
    {
      "cell_type": "code",
      "source": [
        "print(b.count(\"e\"))"
      ],
      "metadata": {
        "colab": {
          "base_uri": "https://localhost:8080/"
        },
        "id": "IQMM4k6DQoU-",
        "outputId": "6f412e19-8ae4-41db-e8ce-75350447cff0"
      },
      "execution_count": null,
      "outputs": [
        {
          "output_type": "stream",
          "name": "stdout",
          "text": [
            "3\n"
          ]
        }
      ]
    },
    {
      "cell_type": "code",
      "source": [
        "print(c[-2])"
      ],
      "metadata": {
        "colab": {
          "base_uri": "https://localhost:8080/"
        },
        "id": "cE8tjOIIQ6do",
        "outputId": "9de625af-23fb-4707-fb11-558babb66c6e"
      },
      "execution_count": null,
      "outputs": [
        {
          "output_type": "stream",
          "name": "stdout",
          "text": [
            "r\n"
          ]
        }
      ]
    },
    {
      "cell_type": "code",
      "source": [
        "print(c[2:7:2])"
      ],
      "metadata": {
        "colab": {
          "base_uri": "https://localhost:8080/"
        },
        "id": "jrSVpYIYRBY-",
        "outputId": "29d3b132-3e91-4df9-85b1-a5a5b7448e81"
      },
      "execution_count": null,
      "outputs": [
        {
          "output_type": "stream",
          "name": "stdout",
          "text": [
            "e o\n"
          ]
        }
      ]
    },
    {
      "cell_type": "markdown",
      "source": [
        "## Concatenate"
      ],
      "metadata": {
        "id": "en3Dj-2wRUC4"
      }
    },
    {
      "cell_type": "code",
      "source": [
        "z = a + b + c"
      ],
      "metadata": {
        "id": "vJsi9IFgRGpM"
      },
      "execution_count": null,
      "outputs": []
    },
    {
      "cell_type": "code",
      "source": [
        "print(\"Men\" in z)"
      ],
      "metadata": {
        "colab": {
          "base_uri": "https://localhost:8080/"
        },
        "id": "tA31ORY1Rcga",
        "outputId": "432c38a3-da74-4d1b-e802-6fc3a85891f9"
      },
      "execution_count": null,
      "outputs": [
        {
          "output_type": "stream",
          "name": "stdout",
          "text": [
            "True\n"
          ]
        }
      ]
    },
    {
      "cell_type": "code",
      "source": [
        "print(z.count(\"love\"))"
      ],
      "metadata": {
        "colab": {
          "base_uri": "https://localhost:8080/"
        },
        "id": "TSXo1EHFRmUh",
        "outputId": "38b6fcb9-e03b-47b3-9ec8-63ecf44871da"
      },
      "execution_count": null,
      "outputs": [
        {
          "output_type": "stream",
          "name": "stdout",
          "text": [
            "2\n"
          ]
        }
      ]
    },
    {
      "cell_type": "code",
      "source": [
        "print(len(z))"
      ],
      "metadata": {
        "colab": {
          "base_uri": "https://localhost:8080/"
        },
        "id": "0SIFa05ORz_u",
        "outputId": "3b196e48-84c1-4c44-9a34-42ecdd27aae2"
      },
      "execution_count": null,
      "outputs": [
        {
          "output_type": "stream",
          "name": "stdout",
          "text": [
            "54\n"
          ]
        }
      ]
    },
    {
      "cell_type": "markdown",
      "source": [
        "## Substitution"
      ],
      "metadata": {
        "id": "3kJUJyFTR9wq"
      }
    },
    {
      "cell_type": "code",
      "source": [
        "d = \"Python is easy to learn\"\n",
        "e = \"and easy to use\"\n",
        "print(d,e)"
      ],
      "metadata": {
        "colab": {
          "base_uri": "https://localhost:8080/"
        },
        "id": "8BP473DnR4L6",
        "outputId": "6f7662d0-0bd8-4053-fb4a-35915ba8bf6d"
      },
      "execution_count": null,
      "outputs": [
        {
          "output_type": "stream",
          "name": "stdout",
          "text": [
            "Python is easy to learn and easy to use\n"
          ]
        }
      ]
    },
    {
      "cell_type": "code",
      "source": [
        "print(d.replace(\"learn\",\"learn and use\"))"
      ],
      "metadata": {
        "colab": {
          "base_uri": "https://localhost:8080/"
        },
        "id": "9-o13eqfSI5L",
        "outputId": "7d050bd2-0cc4-44b2-c797-440c407dd046"
      },
      "execution_count": null,
      "outputs": [
        {
          "output_type": "stream",
          "name": "stdout",
          "text": [
            "Python is easy to learn and use\n"
          ]
        }
      ]
    },
    {
      "cell_type": "code",
      "source": [
        "e.startswith(\"and\") # this will check if the string starts with the indicated string"
      ],
      "metadata": {
        "colab": {
          "base_uri": "https://localhost:8080/"
        },
        "id": "J2IxML89SVis",
        "outputId": "fba73ac0-c807-4c7c-fb4e-fe04fedb45ef"
      },
      "execution_count": null,
      "outputs": [
        {
          "output_type": "execute_result",
          "data": {
            "text/plain": [
              "True"
            ]
          },
          "metadata": {},
          "execution_count": 100
        }
      ]
    },
    {
      "cell_type": "code",
      "source": [
        "e.endswith(\"use\")"
      ],
      "metadata": {
        "colab": {
          "base_uri": "https://localhost:8080/"
        },
        "id": "P2Is4239Sic_",
        "outputId": "d6a8618b-f934-482e-b1fb-a8b8c6a68f1f"
      },
      "execution_count": null,
      "outputs": [
        {
          "output_type": "execute_result",
          "data": {
            "text/plain": [
              "True"
            ]
          },
          "metadata": {},
          "execution_count": 103
        }
      ]
    },
    {
      "cell_type": "code",
      "source": [
        "d.startswith(\"easy\",10)"
      ],
      "metadata": {
        "colab": {
          "base_uri": "https://localhost:8080/"
        },
        "id": "2LryZ09vS7qu",
        "outputId": "34508b6b-6a88-4837-b27b-a1c2e7e15aee"
      },
      "execution_count": null,
      "outputs": [
        {
          "output_type": "execute_result",
          "data": {
            "text/plain": [
              "True"
            ]
          },
          "metadata": {},
          "execution_count": 104
        }
      ]
    },
    {
      "cell_type": "code",
      "source": [
        "d.endswith(\"o\",16,17)"
      ],
      "metadata": {
        "colab": {
          "base_uri": "https://localhost:8080/"
        },
        "id": "qWhOPhSbTJe1",
        "outputId": "7cb1aea0-2e0c-4b96-b199-4ec1332bd932"
      },
      "execution_count": null,
      "outputs": [
        {
          "output_type": "execute_result",
          "data": {
            "text/plain": [
              "True"
            ]
          },
          "metadata": {},
          "execution_count": 109
        }
      ]
    },
    {
      "cell_type": "code",
      "source": [
        "text = \"In the blackmid winter.\""
      ],
      "metadata": {
        "id": "zeG76PZWTYZ3"
      },
      "execution_count": null,
      "outputs": []
    },
    {
      "cell_type": "code",
      "source": [
        "text.endswith(\"winter.\")"
      ],
      "metadata": {
        "colab": {
          "base_uri": "https://localhost:8080/"
        },
        "id": "lPurJLL2T0-S",
        "outputId": "d0afaf87-51a6-41ea-92de-7d921e016dde"
      },
      "execution_count": null,
      "outputs": [
        {
          "output_type": "execute_result",
          "data": {
            "text/plain": [
              "True"
            ]
          },
          "metadata": {},
          "execution_count": 115
        }
      ]
    },
    {
      "cell_type": "code",
      "source": [
        "string4 = \"the coefficient of linear expantion is the position of haemoglobin in the atmosphere\""
      ],
      "metadata": {
        "id": "fj-lSQRsT3Vl"
      },
      "execution_count": null,
      "outputs": []
    },
    {
      "cell_type": "code",
      "source": [
        "print(string4.find(\"position\"))"
      ],
      "metadata": {
        "colab": {
          "base_uri": "https://localhost:8080/"
        },
        "id": "R8YaLt0hWN0w",
        "outputId": "93fae5ca-beed-4287-ff50-eaf85e4cdb80"
      },
      "execution_count": null,
      "outputs": [
        {
          "output_type": "stream",
          "name": "stdout",
          "text": [
            "43\n"
          ]
        }
      ]
    },
    {
      "cell_type": "code",
      "source": [
        "print(string4.find(\"of\")) # this will give the first result from the left"
      ],
      "metadata": {
        "colab": {
          "base_uri": "https://localhost:8080/"
        },
        "id": "9UBOWxZwWymX",
        "outputId": "6247aa4c-f3c2-4acb-dc44-721bbba40dcb"
      },
      "execution_count": null,
      "outputs": [
        {
          "output_type": "stream",
          "name": "stdout",
          "text": [
            "16\n"
          ]
        }
      ]
    },
    {
      "cell_type": "code",
      "source": [
        "print(string4.find(\"of\",18,len(string4))) # This will give the result by searching from 18th to last of the string"
      ],
      "metadata": {
        "colab": {
          "base_uri": "https://localhost:8080/"
        },
        "id": "GM76-IBhWVGC",
        "outputId": "6634d208-3916-4322-8ad9-b7611ec56a6e"
      },
      "execution_count": null,
      "outputs": [
        {
          "output_type": "stream",
          "name": "stdout",
          "text": [
            "52\n"
          ]
        }
      ]
    },
    {
      "cell_type": "code",
      "source": [
        "# gives the smallest index by searching the input\n",
        "string4.find?"
      ],
      "metadata": {
        "id": "sPB9w1-pWiT5"
      },
      "execution_count": null,
      "outputs": []
    },
    {
      "cell_type": "code",
      "source": [
        "string4.rfind?"
      ],
      "metadata": {
        "id": "Gw-RJcZNXZav"
      },
      "execution_count": null,
      "outputs": []
    },
    {
      "cell_type": "code",
      "source": [
        "L1 = string4.split(\" \") # split at every indicated character"
      ],
      "metadata": {
        "id": "PrAEhy4TXn_f"
      },
      "execution_count": null,
      "outputs": []
    },
    {
      "cell_type": "code",
      "source": [
        "print(L1)"
      ],
      "metadata": {
        "colab": {
          "base_uri": "https://localhost:8080/"
        },
        "id": "3-D-o1evYhi5",
        "outputId": "d4d06b51-d209-4ed3-d2fa-8388181058bf"
      },
      "execution_count": null,
      "outputs": [
        {
          "output_type": "stream",
          "name": "stdout",
          "text": [
            "['the', 'coefficient', 'of', 'linear', 'expantion', 'is', 'the', 'position', 'of', 'haemoglobin', 'in', 'the', 'atmosphere']\n"
          ]
        }
      ]
    },
    {
      "cell_type": "code",
      "source": [
        "type(L1)\n"
      ],
      "metadata": {
        "colab": {
          "base_uri": "https://localhost:8080/"
        },
        "id": "Ne9sdSioY5m6",
        "outputId": "12fa1eee-7dfa-4ab2-9048-1b4c92804085"
      },
      "execution_count": null,
      "outputs": [
        {
          "output_type": "execute_result",
          "data": {
            "text/plain": [
              "list"
            ]
          },
          "metadata": {},
          "execution_count": 148
        }
      ]
    },
    {
      "cell_type": "code",
      "source": [
        "L2 = \"@\".join(L1) # join the list elements with indicated character"
      ],
      "metadata": {
        "id": "KS0CSw-AYi6d"
      },
      "execution_count": null,
      "outputs": []
    },
    {
      "cell_type": "code",
      "source": [
        "print(L2)"
      ],
      "metadata": {
        "colab": {
          "base_uri": "https://localhost:8080/"
        },
        "id": "mbsJdoIhYt-7",
        "outputId": "b4eb6eb9-f08b-45e5-cdee-17cc2d5ec64f"
      },
      "execution_count": null,
      "outputs": [
        {
          "output_type": "stream",
          "name": "stdout",
          "text": [
            "the@coefficient@of@linear@expantion@is@the@position@of@haemoglobin@in@the@atmosphere\n"
          ]
        }
      ]
    },
    {
      "cell_type": "code",
      "source": [
        "string4.capitalize() #this will captalise only the first character and all other lower case"
      ],
      "metadata": {
        "colab": {
          "base_uri": "https://localhost:8080/",
          "height": 35
        },
        "id": "LNG8DXq4Yvl8",
        "outputId": "084e1d31-1d4e-4ce5-ca80-17189606dfd5"
      },
      "execution_count": null,
      "outputs": [
        {
          "output_type": "execute_result",
          "data": {
            "text/plain": [
              "'The coefficient of linear expantion is the position of haemoglobin in the atmosphere'"
            ],
            "application/vnd.google.colaboratory.intrinsic+json": {
              "type": "string"
            }
          },
          "metadata": {},
          "execution_count": 152
        }
      ]
    },
    {
      "cell_type": "code",
      "source": [
        "string4.capitalize?"
      ],
      "metadata": {
        "id": "cfpbnHTDZJ0L"
      },
      "execution_count": null,
      "outputs": []
    },
    {
      "cell_type": "code",
      "source": [
        "string4.upper()"
      ],
      "metadata": {
        "colab": {
          "base_uri": "https://localhost:8080/",
          "height": 35
        },
        "id": "dDG7LDEhZZOA",
        "outputId": "56fd9ab8-fe24-42a1-ed33-ae36c8b1de57"
      },
      "execution_count": null,
      "outputs": [
        {
          "output_type": "execute_result",
          "data": {
            "text/plain": [
              "'THE COEFFICIENT OF LINEAR EXPANTION IS THE POSITION OF HAEMOGLOBIN IN THE ATMOSPHERE'"
            ],
            "application/vnd.google.colaboratory.intrinsic+json": {
              "type": "string"
            }
          },
          "metadata": {},
          "execution_count": 154
        }
      ]
    },
    {
      "cell_type": "code",
      "source": [
        "string4.lower()"
      ],
      "metadata": {
        "colab": {
          "base_uri": "https://localhost:8080/",
          "height": 35
        },
        "id": "HjXkjHwZZetD",
        "outputId": "2dc263d3-2e94-4719-eb60-a3a0e61e44c4"
      },
      "execution_count": null,
      "outputs": [
        {
          "output_type": "execute_result",
          "data": {
            "text/plain": [
              "'the coefficient of linear expantion is the position of haemoglobin in the atmosphere'"
            ],
            "application/vnd.google.colaboratory.intrinsic+json": {
              "type": "string"
            }
          },
          "metadata": {},
          "execution_count": 155
        }
      ]
    },
    {
      "cell_type": "code",
      "source": [
        "string4.upper()"
      ],
      "metadata": {
        "colab": {
          "base_uri": "https://localhost:8080/",
          "height": 35
        },
        "id": "S7SvrqKeZg1g",
        "outputId": "80c68865-b567-49af-95da-7b773abd738b"
      },
      "execution_count": null,
      "outputs": [
        {
          "output_type": "execute_result",
          "data": {
            "text/plain": [
              "'THE COEFFICIENT OF LINEAR EXPANTION IS THE POSITION OF HAEMOGLOBIN IN THE ATMOSPHERE'"
            ],
            "application/vnd.google.colaboratory.intrinsic+json": {
              "type": "string"
            }
          },
          "metadata": {},
          "execution_count": 156
        }
      ]
    },
    {
      "cell_type": "code",
      "source": [
        "string4.capitalize()"
      ],
      "metadata": {
        "colab": {
          "base_uri": "https://localhost:8080/",
          "height": 35
        },
        "id": "M07UMlMKZnKt",
        "outputId": "3a8f471a-fa5c-4fe2-c44f-b056feafd0ff"
      },
      "execution_count": null,
      "outputs": [
        {
          "output_type": "execute_result",
          "data": {
            "text/plain": [
              "'The coefficient of linear expantion is the position of haemoglobin in the atmosphere'"
            ],
            "application/vnd.google.colaboratory.intrinsic+json": {
              "type": "string"
            }
          },
          "metadata": {},
          "execution_count": 157
        }
      ]
    },
    {
      "cell_type": "code",
      "source": [
        "string4.title?"
      ],
      "metadata": {
        "id": "Hth61WFvZq9t"
      },
      "execution_count": null,
      "outputs": []
    },
    {
      "cell_type": "code",
      "source": [
        "string4.title() #every word will be starting with capital"
      ],
      "metadata": {
        "colab": {
          "base_uri": "https://localhost:8080/",
          "height": 35
        },
        "id": "2fsO0eN3ZvH7",
        "outputId": "636fcef2-f804-4e90-c535-bac0b6135c6e"
      },
      "execution_count": null,
      "outputs": [
        {
          "output_type": "execute_result",
          "data": {
            "text/plain": [
              "'The Coefficient Of Linear Expantion Is The Position Of Haemoglobin In The Atmosphere'"
            ],
            "application/vnd.google.colaboratory.intrinsic+json": {
              "type": "string"
            }
          },
          "metadata": {},
          "execution_count": 160
        }
      ]
    },
    {
      "cell_type": "code",
      "source": [
        "string5 = \"22 million dollars in 3 fuckin hours\""
      ],
      "metadata": {
        "id": "qTP6Yjb2amnM"
      },
      "execution_count": null,
      "outputs": []
    },
    {
      "cell_type": "code",
      "source": [
        "string6 = \"22milliondollarsin3fuckinhours\""
      ],
      "metadata": {
        "id": "Ko1usUTDaMjA"
      },
      "execution_count": null,
      "outputs": []
    },
    {
      "cell_type": "code",
      "source": [
        "string5.isalnum?"
      ],
      "metadata": {
        "id": "l8jMpE-wZ1sW"
      },
      "execution_count": null,
      "outputs": []
    },
    {
      "cell_type": "code",
      "source": [
        "string4.isalnum()"
      ],
      "metadata": {
        "colab": {
          "base_uri": "https://localhost:8080/"
        },
        "id": "4MtXhlpLaD3j",
        "outputId": "ac54382a-c976-4f3a-e7b4-9b57cc0a694d"
      },
      "execution_count": null,
      "outputs": [
        {
          "output_type": "execute_result",
          "data": {
            "text/plain": [
              "False"
            ]
          },
          "metadata": {},
          "execution_count": 173
        }
      ]
    },
    {
      "cell_type": "code",
      "source": [
        "string5.isalnum()"
      ],
      "metadata": {
        "colab": {
          "base_uri": "https://localhost:8080/"
        },
        "id": "ic88YbwHaJ-H",
        "outputId": "3d46ba31-0646-41b0-f2b6-ea5e5c696559"
      },
      "execution_count": null,
      "outputs": [
        {
          "output_type": "execute_result",
          "data": {
            "text/plain": [
              "False"
            ]
          },
          "metadata": {},
          "execution_count": 174
        }
      ]
    },
    {
      "cell_type": "code",
      "source": [
        "string6.isalnum()"
      ],
      "metadata": {
        "colab": {
          "base_uri": "https://localhost:8080/"
        },
        "id": "yzbIVcuAaZXa",
        "outputId": "f512d43b-26d1-4616-eb5b-5e759c3cc108"
      },
      "execution_count": null,
      "outputs": [
        {
          "output_type": "execute_result",
          "data": {
            "text/plain": [
              "True"
            ]
          },
          "metadata": {},
          "execution_count": 175
        }
      ]
    },
    {
      "cell_type": "code",
      "source": [
        "string5.istitle?"
      ],
      "metadata": {
        "id": "8IjzjDGoa86h"
      },
      "execution_count": null,
      "outputs": []
    },
    {
      "cell_type": "code",
      "source": [
        "string5.istitle()"
      ],
      "metadata": {
        "colab": {
          "base_uri": "https://localhost:8080/"
        },
        "id": "huXTLypJavp2",
        "outputId": "18d8ef17-d203-4c7e-e978-5e0cc6261de3"
      },
      "execution_count": null,
      "outputs": [
        {
          "output_type": "execute_result",
          "data": {
            "text/plain": [
              "False"
            ]
          },
          "metadata": {},
          "execution_count": 176
        }
      ]
    },
    {
      "cell_type": "code",
      "source": [
        "string5.islower()"
      ],
      "metadata": {
        "colab": {
          "base_uri": "https://localhost:8080/"
        },
        "id": "Iyo6oSpga6Tf",
        "outputId": "a1ba4cdc-1559-4817-aba9-48df04ac1754"
      },
      "execution_count": null,
      "outputs": [
        {
          "output_type": "execute_result",
          "data": {
            "text/plain": [
              "True"
            ]
          },
          "metadata": {},
          "execution_count": 181
        }
      ]
    },
    {
      "cell_type": "code",
      "source": [
        "string5.isupper()"
      ],
      "metadata": {
        "colab": {
          "base_uri": "https://localhost:8080/"
        },
        "id": "CRMqK9TcbMfp",
        "outputId": "d6fc9f84-e27a-4dae-8a82-ce100764dea8"
      },
      "execution_count": null,
      "outputs": [
        {
          "output_type": "execute_result",
          "data": {
            "text/plain": [
              "False"
            ]
          },
          "metadata": {},
          "execution_count": 182
        }
      ]
    },
    {
      "cell_type": "markdown",
      "source": [
        "# User Input"
      ],
      "metadata": {
        "id": "Mn6Qt4KNeHM2"
      }
    },
    {
      "cell_type": "code",
      "source": [
        "name = input(\"Enter your name: \")\n",
        "age = float(input(\"Enter your age: \"))"
      ],
      "metadata": {
        "id": "tPvqTPr_bOKM",
        "colab": {
          "base_uri": "https://localhost:8080/"
        },
        "outputId": "39f29ceb-82cf-4fb8-acda-5fe489386b6e"
      },
      "execution_count": null,
      "outputs": [
        {
          "name": "stdout",
          "output_type": "stream",
          "text": [
            "Enter your name: blake\n",
            "Enter your age: 23\n"
          ]
        }
      ]
    },
    {
      "cell_type": "code",
      "source": [
        "print(name,age)"
      ],
      "metadata": {
        "colab": {
          "base_uri": "https://localhost:8080/"
        },
        "id": "HxNyy40weWx6",
        "outputId": "6e2c55bc-a938-4be7-805e-74fc929d44ee"
      },
      "execution_count": null,
      "outputs": [
        {
          "output_type": "stream",
          "name": "stdout",
          "text": [
            "blake 23.0\n"
          ]
        }
      ]
    },
    {
      "cell_type": "code",
      "source": [
        "print(type(name))"
      ],
      "metadata": {
        "id": "5veOmMScecgC",
        "colab": {
          "base_uri": "https://localhost:8080/"
        },
        "outputId": "f5863264-3edb-4da4-a93a-e8ff6c18993f"
      },
      "execution_count": null,
      "outputs": [
        {
          "output_type": "stream",
          "name": "stdout",
          "text": [
            "<class 'str'>\n"
          ]
        }
      ]
    },
    {
      "cell_type": "code",
      "source": [
        "print(type(age))"
      ],
      "metadata": {
        "colab": {
          "base_uri": "https://localhost:8080/"
        },
        "id": "gfoA9m9RfNL4",
        "outputId": "b270faa3-97c0-4dc4-e2ba-bf76330d177c"
      },
      "execution_count": null,
      "outputs": [
        {
          "output_type": "stream",
          "name": "stdout",
          "text": [
            "<class 'float'>\n"
          ]
        }
      ]
    }
  ]
}